{
 "cells": [
  {
   "cell_type": "markdown",
   "id": "66f57479",
   "metadata": {},
   "source": [
    "### Importing all the necessary libabires"
   ]
  },
  {
   "cell_type": "code",
   "execution_count": 1,
   "id": "7518d98d",
   "metadata": {},
   "outputs": [],
   "source": [
    "import pandas as pd\n",
    "from sklearn import preprocessing\n",
    "from sklearn.model_selection import train_test_split, StratifiedKFold, StratifiedShuffleSplit, KFold\n",
    "from sklearn.ensemble import RandomForestClassifier\n",
    "import numpy as np\n",
    "from sklearn.model_selection import cross_val_score\n",
    "from sklearn.metrics import accuracy_score,confusion_matrix,classification_report\n",
    "from sklearn.preprocessing import MinMaxScaler\n",
    "from sklearn.model_selection import KFold\n",
    "from sklearn.cluster import KMeans\n",
    "import matplotlib.pyplot as plt"
   ]
  },
  {
   "cell_type": "code",
   "execution_count": 2,
   "id": "1788e3e0",
   "metadata": {},
   "outputs": [
    {
     "data": {
      "text/html": [
       "<div>\n",
       "<style scoped>\n",
       "    .dataframe tbody tr th:only-of-type {\n",
       "        vertical-align: middle;\n",
       "    }\n",
       "\n",
       "    .dataframe tbody tr th {\n",
       "        vertical-align: top;\n",
       "    }\n",
       "\n",
       "    .dataframe thead th {\n",
       "        text-align: right;\n",
       "    }\n",
       "</style>\n",
       "<table border=\"1\" class=\"dataframe\">\n",
       "  <thead>\n",
       "    <tr style=\"text-align: right;\">\n",
       "      <th></th>\n",
       "      <th>long_hair</th>\n",
       "      <th>forehead_width_cm</th>\n",
       "      <th>forehead_height_cm</th>\n",
       "      <th>nose_wide</th>\n",
       "      <th>nose_long</th>\n",
       "      <th>lips_thin</th>\n",
       "      <th>distance_nose_to_lip_long</th>\n",
       "      <th>gender</th>\n",
       "    </tr>\n",
       "  </thead>\n",
       "  <tbody>\n",
       "    <tr>\n",
       "      <th>0</th>\n",
       "      <td>1</td>\n",
       "      <td>11.8</td>\n",
       "      <td>6.1</td>\n",
       "      <td>1</td>\n",
       "      <td>0</td>\n",
       "      <td>1</td>\n",
       "      <td>1</td>\n",
       "      <td>Male</td>\n",
       "    </tr>\n",
       "    <tr>\n",
       "      <th>1</th>\n",
       "      <td>0</td>\n",
       "      <td>14.0</td>\n",
       "      <td>5.4</td>\n",
       "      <td>0</td>\n",
       "      <td>0</td>\n",
       "      <td>1</td>\n",
       "      <td>0</td>\n",
       "      <td>Female</td>\n",
       "    </tr>\n",
       "    <tr>\n",
       "      <th>2</th>\n",
       "      <td>0</td>\n",
       "      <td>11.8</td>\n",
       "      <td>6.3</td>\n",
       "      <td>1</td>\n",
       "      <td>1</td>\n",
       "      <td>1</td>\n",
       "      <td>1</td>\n",
       "      <td>Male</td>\n",
       "    </tr>\n",
       "    <tr>\n",
       "      <th>3</th>\n",
       "      <td>0</td>\n",
       "      <td>14.4</td>\n",
       "      <td>6.1</td>\n",
       "      <td>0</td>\n",
       "      <td>1</td>\n",
       "      <td>1</td>\n",
       "      <td>1</td>\n",
       "      <td>Male</td>\n",
       "    </tr>\n",
       "    <tr>\n",
       "      <th>4</th>\n",
       "      <td>1</td>\n",
       "      <td>13.5</td>\n",
       "      <td>5.9</td>\n",
       "      <td>0</td>\n",
       "      <td>0</td>\n",
       "      <td>0</td>\n",
       "      <td>0</td>\n",
       "      <td>Female</td>\n",
       "    </tr>\n",
       "    <tr>\n",
       "      <th>...</th>\n",
       "      <td>...</td>\n",
       "      <td>...</td>\n",
       "      <td>...</td>\n",
       "      <td>...</td>\n",
       "      <td>...</td>\n",
       "      <td>...</td>\n",
       "      <td>...</td>\n",
       "      <td>...</td>\n",
       "    </tr>\n",
       "    <tr>\n",
       "      <th>4996</th>\n",
       "      <td>1</td>\n",
       "      <td>13.6</td>\n",
       "      <td>5.1</td>\n",
       "      <td>0</td>\n",
       "      <td>0</td>\n",
       "      <td>0</td>\n",
       "      <td>0</td>\n",
       "      <td>Female</td>\n",
       "    </tr>\n",
       "    <tr>\n",
       "      <th>4997</th>\n",
       "      <td>1</td>\n",
       "      <td>11.9</td>\n",
       "      <td>5.4</td>\n",
       "      <td>0</td>\n",
       "      <td>0</td>\n",
       "      <td>0</td>\n",
       "      <td>0</td>\n",
       "      <td>Female</td>\n",
       "    </tr>\n",
       "    <tr>\n",
       "      <th>4998</th>\n",
       "      <td>1</td>\n",
       "      <td>12.9</td>\n",
       "      <td>5.7</td>\n",
       "      <td>0</td>\n",
       "      <td>0</td>\n",
       "      <td>0</td>\n",
       "      <td>0</td>\n",
       "      <td>Female</td>\n",
       "    </tr>\n",
       "    <tr>\n",
       "      <th>4999</th>\n",
       "      <td>1</td>\n",
       "      <td>13.2</td>\n",
       "      <td>6.2</td>\n",
       "      <td>0</td>\n",
       "      <td>0</td>\n",
       "      <td>0</td>\n",
       "      <td>0</td>\n",
       "      <td>Female</td>\n",
       "    </tr>\n",
       "    <tr>\n",
       "      <th>5000</th>\n",
       "      <td>1</td>\n",
       "      <td>15.4</td>\n",
       "      <td>5.4</td>\n",
       "      <td>1</td>\n",
       "      <td>1</td>\n",
       "      <td>1</td>\n",
       "      <td>1</td>\n",
       "      <td>Male</td>\n",
       "    </tr>\n",
       "  </tbody>\n",
       "</table>\n",
       "<p>5001 rows × 8 columns</p>\n",
       "</div>"
      ],
      "text/plain": [
       "      long_hair  forehead_width_cm  forehead_height_cm  nose_wide  nose_long  \\\n",
       "0             1               11.8                 6.1          1          0   \n",
       "1             0               14.0                 5.4          0          0   \n",
       "2             0               11.8                 6.3          1          1   \n",
       "3             0               14.4                 6.1          0          1   \n",
       "4             1               13.5                 5.9          0          0   \n",
       "...         ...                ...                 ...        ...        ...   \n",
       "4996          1               13.6                 5.1          0          0   \n",
       "4997          1               11.9                 5.4          0          0   \n",
       "4998          1               12.9                 5.7          0          0   \n",
       "4999          1               13.2                 6.2          0          0   \n",
       "5000          1               15.4                 5.4          1          1   \n",
       "\n",
       "      lips_thin  distance_nose_to_lip_long  gender  \n",
       "0             1                          1    Male  \n",
       "1             1                          0  Female  \n",
       "2             1                          1    Male  \n",
       "3             1                          1    Male  \n",
       "4             0                          0  Female  \n",
       "...         ...                        ...     ...  \n",
       "4996          0                          0  Female  \n",
       "4997          0                          0  Female  \n",
       "4998          0                          0  Female  \n",
       "4999          0                          0  Female  \n",
       "5000          1                          1    Male  \n",
       "\n",
       "[5001 rows x 8 columns]"
      ]
     },
     "execution_count": 2,
     "metadata": {},
     "output_type": "execute_result"
    }
   ],
   "source": [
    "#loading the dataset\n",
    "df = pd.read_csv(\"gender_classification_v7.csv\")\n",
    "df"
   ]
  },
  {
   "cell_type": "code",
   "execution_count": 3,
   "id": "7f9ac329",
   "metadata": {},
   "outputs": [
    {
     "name": "stdout",
     "output_type": "stream",
     "text": [
      "<class 'pandas.core.frame.DataFrame'>\n",
      "RangeIndex: 5001 entries, 0 to 5000\n",
      "Data columns (total 8 columns):\n",
      " #   Column                     Non-Null Count  Dtype  \n",
      "---  ------                     --------------  -----  \n",
      " 0   long_hair                  5001 non-null   int64  \n",
      " 1   forehead_width_cm          5001 non-null   float64\n",
      " 2   forehead_height_cm         5001 non-null   float64\n",
      " 3   nose_wide                  5001 non-null   int64  \n",
      " 4   nose_long                  5001 non-null   int64  \n",
      " 5   lips_thin                  5001 non-null   int64  \n",
      " 6   distance_nose_to_lip_long  5001 non-null   int64  \n",
      " 7   gender                     5001 non-null   object \n",
      "dtypes: float64(2), int64(5), object(1)\n",
      "memory usage: 312.7+ KB\n"
     ]
    }
   ],
   "source": [
    "df.info()"
   ]
  },
  {
   "cell_type": "code",
   "execution_count": 4,
   "id": "74dd2809",
   "metadata": {},
   "outputs": [
    {
     "data": {
      "text/plain": [
       "0"
      ]
     },
     "execution_count": 4,
     "metadata": {},
     "output_type": "execute_result"
    }
   ],
   "source": [
    "#checking the null value in the dataset\n",
    "df.isnull().sum().max()"
   ]
  },
  {
   "cell_type": "code",
   "execution_count": 5,
   "id": "fd80a87e",
   "metadata": {},
   "outputs": [
    {
     "data": {
      "text/html": [
       "<div>\n",
       "<style scoped>\n",
       "    .dataframe tbody tr th:only-of-type {\n",
       "        vertical-align: middle;\n",
       "    }\n",
       "\n",
       "    .dataframe tbody tr th {\n",
       "        vertical-align: top;\n",
       "    }\n",
       "\n",
       "    .dataframe thead th {\n",
       "        text-align: right;\n",
       "    }\n",
       "</style>\n",
       "<table border=\"1\" class=\"dataframe\">\n",
       "  <thead>\n",
       "    <tr style=\"text-align: right;\">\n",
       "      <th></th>\n",
       "      <th>long_hair</th>\n",
       "      <th>forehead_width_cm</th>\n",
       "      <th>forehead_height_cm</th>\n",
       "      <th>nose_wide</th>\n",
       "      <th>nose_long</th>\n",
       "      <th>lips_thin</th>\n",
       "      <th>distance_nose_to_lip_long</th>\n",
       "    </tr>\n",
       "  </thead>\n",
       "  <tbody>\n",
       "    <tr>\n",
       "      <th>count</th>\n",
       "      <td>5001.000000</td>\n",
       "      <td>5001.000000</td>\n",
       "      <td>5001.000000</td>\n",
       "      <td>5001.000000</td>\n",
       "      <td>5001.000000</td>\n",
       "      <td>5001.000000</td>\n",
       "      <td>5001.000000</td>\n",
       "    </tr>\n",
       "    <tr>\n",
       "      <th>mean</th>\n",
       "      <td>0.869626</td>\n",
       "      <td>13.181484</td>\n",
       "      <td>5.946311</td>\n",
       "      <td>0.493901</td>\n",
       "      <td>0.507898</td>\n",
       "      <td>0.493101</td>\n",
       "      <td>0.498900</td>\n",
       "    </tr>\n",
       "    <tr>\n",
       "      <th>std</th>\n",
       "      <td>0.336748</td>\n",
       "      <td>1.107128</td>\n",
       "      <td>0.541268</td>\n",
       "      <td>0.500013</td>\n",
       "      <td>0.499988</td>\n",
       "      <td>0.500002</td>\n",
       "      <td>0.500049</td>\n",
       "    </tr>\n",
       "    <tr>\n",
       "      <th>min</th>\n",
       "      <td>0.000000</td>\n",
       "      <td>11.400000</td>\n",
       "      <td>5.100000</td>\n",
       "      <td>0.000000</td>\n",
       "      <td>0.000000</td>\n",
       "      <td>0.000000</td>\n",
       "      <td>0.000000</td>\n",
       "    </tr>\n",
       "    <tr>\n",
       "      <th>25%</th>\n",
       "      <td>1.000000</td>\n",
       "      <td>12.200000</td>\n",
       "      <td>5.500000</td>\n",
       "      <td>0.000000</td>\n",
       "      <td>0.000000</td>\n",
       "      <td>0.000000</td>\n",
       "      <td>0.000000</td>\n",
       "    </tr>\n",
       "    <tr>\n",
       "      <th>50%</th>\n",
       "      <td>1.000000</td>\n",
       "      <td>13.100000</td>\n",
       "      <td>5.900000</td>\n",
       "      <td>0.000000</td>\n",
       "      <td>1.000000</td>\n",
       "      <td>0.000000</td>\n",
       "      <td>0.000000</td>\n",
       "    </tr>\n",
       "    <tr>\n",
       "      <th>75%</th>\n",
       "      <td>1.000000</td>\n",
       "      <td>14.000000</td>\n",
       "      <td>6.400000</td>\n",
       "      <td>1.000000</td>\n",
       "      <td>1.000000</td>\n",
       "      <td>1.000000</td>\n",
       "      <td>1.000000</td>\n",
       "    </tr>\n",
       "    <tr>\n",
       "      <th>max</th>\n",
       "      <td>1.000000</td>\n",
       "      <td>15.500000</td>\n",
       "      <td>7.100000</td>\n",
       "      <td>1.000000</td>\n",
       "      <td>1.000000</td>\n",
       "      <td>1.000000</td>\n",
       "      <td>1.000000</td>\n",
       "    </tr>\n",
       "  </tbody>\n",
       "</table>\n",
       "</div>"
      ],
      "text/plain": [
       "         long_hair  forehead_width_cm  forehead_height_cm    nose_wide  \\\n",
       "count  5001.000000        5001.000000         5001.000000  5001.000000   \n",
       "mean      0.869626          13.181484            5.946311     0.493901   \n",
       "std       0.336748           1.107128            0.541268     0.500013   \n",
       "min       0.000000          11.400000            5.100000     0.000000   \n",
       "25%       1.000000          12.200000            5.500000     0.000000   \n",
       "50%       1.000000          13.100000            5.900000     0.000000   \n",
       "75%       1.000000          14.000000            6.400000     1.000000   \n",
       "max       1.000000          15.500000            7.100000     1.000000   \n",
       "\n",
       "         nose_long    lips_thin  distance_nose_to_lip_long  \n",
       "count  5001.000000  5001.000000                5001.000000  \n",
       "mean      0.507898     0.493101                   0.498900  \n",
       "std       0.499988     0.500002                   0.500049  \n",
       "min       0.000000     0.000000                   0.000000  \n",
       "25%       0.000000     0.000000                   0.000000  \n",
       "50%       1.000000     0.000000                   0.000000  \n",
       "75%       1.000000     1.000000                   1.000000  \n",
       "max       1.000000     1.000000                   1.000000  "
      ]
     },
     "execution_count": 5,
     "metadata": {},
     "output_type": "execute_result"
    }
   ],
   "source": [
    "df.describe()"
   ]
  },
  {
   "cell_type": "code",
   "execution_count": 6,
   "id": "210decd9",
   "metadata": {},
   "outputs": [
    {
     "name": "stdout",
     "output_type": "stream",
     "text": [
      "[1 0]\n"
     ]
    }
   ],
   "source": [
    "#Perform one-hot encoding on the categorical features\n",
    "lb = preprocessing.LabelEncoder()\n",
    "df['gender']=lb.fit_transform(df['gender'])\n",
    "print(df['gender'].unique())"
   ]
  },
  {
   "cell_type": "code",
   "execution_count": 7,
   "id": "571a1872",
   "metadata": {},
   "outputs": [
    {
     "data": {
      "text/html": [
       "<div>\n",
       "<style scoped>\n",
       "    .dataframe tbody tr th:only-of-type {\n",
       "        vertical-align: middle;\n",
       "    }\n",
       "\n",
       "    .dataframe tbody tr th {\n",
       "        vertical-align: top;\n",
       "    }\n",
       "\n",
       "    .dataframe thead th {\n",
       "        text-align: right;\n",
       "    }\n",
       "</style>\n",
       "<table border=\"1\" class=\"dataframe\">\n",
       "  <thead>\n",
       "    <tr style=\"text-align: right;\">\n",
       "      <th></th>\n",
       "      <th>long_hair</th>\n",
       "      <th>forehead_width_cm</th>\n",
       "      <th>forehead_height_cm</th>\n",
       "      <th>nose_wide</th>\n",
       "      <th>nose_long</th>\n",
       "      <th>lips_thin</th>\n",
       "      <th>distance_nose_to_lip_long</th>\n",
       "      <th>gender</th>\n",
       "    </tr>\n",
       "  </thead>\n",
       "  <tbody>\n",
       "    <tr>\n",
       "      <th>0</th>\n",
       "      <td>1</td>\n",
       "      <td>11.8</td>\n",
       "      <td>6.1</td>\n",
       "      <td>1</td>\n",
       "      <td>0</td>\n",
       "      <td>1</td>\n",
       "      <td>1</td>\n",
       "      <td>1</td>\n",
       "    </tr>\n",
       "    <tr>\n",
       "      <th>1</th>\n",
       "      <td>0</td>\n",
       "      <td>14.0</td>\n",
       "      <td>5.4</td>\n",
       "      <td>0</td>\n",
       "      <td>0</td>\n",
       "      <td>1</td>\n",
       "      <td>0</td>\n",
       "      <td>0</td>\n",
       "    </tr>\n",
       "    <tr>\n",
       "      <th>2</th>\n",
       "      <td>0</td>\n",
       "      <td>11.8</td>\n",
       "      <td>6.3</td>\n",
       "      <td>1</td>\n",
       "      <td>1</td>\n",
       "      <td>1</td>\n",
       "      <td>1</td>\n",
       "      <td>1</td>\n",
       "    </tr>\n",
       "    <tr>\n",
       "      <th>3</th>\n",
       "      <td>0</td>\n",
       "      <td>14.4</td>\n",
       "      <td>6.1</td>\n",
       "      <td>0</td>\n",
       "      <td>1</td>\n",
       "      <td>1</td>\n",
       "      <td>1</td>\n",
       "      <td>1</td>\n",
       "    </tr>\n",
       "    <tr>\n",
       "      <th>4</th>\n",
       "      <td>1</td>\n",
       "      <td>13.5</td>\n",
       "      <td>5.9</td>\n",
       "      <td>0</td>\n",
       "      <td>0</td>\n",
       "      <td>0</td>\n",
       "      <td>0</td>\n",
       "      <td>0</td>\n",
       "    </tr>\n",
       "    <tr>\n",
       "      <th>...</th>\n",
       "      <td>...</td>\n",
       "      <td>...</td>\n",
       "      <td>...</td>\n",
       "      <td>...</td>\n",
       "      <td>...</td>\n",
       "      <td>...</td>\n",
       "      <td>...</td>\n",
       "      <td>...</td>\n",
       "    </tr>\n",
       "    <tr>\n",
       "      <th>4996</th>\n",
       "      <td>1</td>\n",
       "      <td>13.6</td>\n",
       "      <td>5.1</td>\n",
       "      <td>0</td>\n",
       "      <td>0</td>\n",
       "      <td>0</td>\n",
       "      <td>0</td>\n",
       "      <td>0</td>\n",
       "    </tr>\n",
       "    <tr>\n",
       "      <th>4997</th>\n",
       "      <td>1</td>\n",
       "      <td>11.9</td>\n",
       "      <td>5.4</td>\n",
       "      <td>0</td>\n",
       "      <td>0</td>\n",
       "      <td>0</td>\n",
       "      <td>0</td>\n",
       "      <td>0</td>\n",
       "    </tr>\n",
       "    <tr>\n",
       "      <th>4998</th>\n",
       "      <td>1</td>\n",
       "      <td>12.9</td>\n",
       "      <td>5.7</td>\n",
       "      <td>0</td>\n",
       "      <td>0</td>\n",
       "      <td>0</td>\n",
       "      <td>0</td>\n",
       "      <td>0</td>\n",
       "    </tr>\n",
       "    <tr>\n",
       "      <th>4999</th>\n",
       "      <td>1</td>\n",
       "      <td>13.2</td>\n",
       "      <td>6.2</td>\n",
       "      <td>0</td>\n",
       "      <td>0</td>\n",
       "      <td>0</td>\n",
       "      <td>0</td>\n",
       "      <td>0</td>\n",
       "    </tr>\n",
       "    <tr>\n",
       "      <th>5000</th>\n",
       "      <td>1</td>\n",
       "      <td>15.4</td>\n",
       "      <td>5.4</td>\n",
       "      <td>1</td>\n",
       "      <td>1</td>\n",
       "      <td>1</td>\n",
       "      <td>1</td>\n",
       "      <td>1</td>\n",
       "    </tr>\n",
       "  </tbody>\n",
       "</table>\n",
       "<p>5001 rows × 8 columns</p>\n",
       "</div>"
      ],
      "text/plain": [
       "      long_hair  forehead_width_cm  forehead_height_cm  nose_wide  nose_long  \\\n",
       "0             1               11.8                 6.1          1          0   \n",
       "1             0               14.0                 5.4          0          0   \n",
       "2             0               11.8                 6.3          1          1   \n",
       "3             0               14.4                 6.1          0          1   \n",
       "4             1               13.5                 5.9          0          0   \n",
       "...         ...                ...                 ...        ...        ...   \n",
       "4996          1               13.6                 5.1          0          0   \n",
       "4997          1               11.9                 5.4          0          0   \n",
       "4998          1               12.9                 5.7          0          0   \n",
       "4999          1               13.2                 6.2          0          0   \n",
       "5000          1               15.4                 5.4          1          1   \n",
       "\n",
       "      lips_thin  distance_nose_to_lip_long  gender  \n",
       "0             1                          1       1  \n",
       "1             1                          0       0  \n",
       "2             1                          1       1  \n",
       "3             1                          1       1  \n",
       "4             0                          0       0  \n",
       "...         ...                        ...     ...  \n",
       "4996          0                          0       0  \n",
       "4997          0                          0       0  \n",
       "4998          0                          0       0  \n",
       "4999          0                          0       0  \n",
       "5000          1                          1       1  \n",
       "\n",
       "[5001 rows x 8 columns]"
      ]
     },
     "execution_count": 7,
     "metadata": {},
     "output_type": "execute_result"
    }
   ],
   "source": [
    "df"
   ]
  },
  {
   "cell_type": "code",
   "execution_count": 8,
   "id": "9ac706d1",
   "metadata": {},
   "outputs": [],
   "source": [
    "#Perform one-hot encoding \n",
    "df_dummies =pd.get_dummies(df)"
   ]
  },
  {
   "cell_type": "code",
   "execution_count": 9,
   "id": "7d29bcbe",
   "metadata": {},
   "outputs": [
    {
     "data": {
      "text/html": [
       "<div>\n",
       "<style scoped>\n",
       "    .dataframe tbody tr th:only-of-type {\n",
       "        vertical-align: middle;\n",
       "    }\n",
       "\n",
       "    .dataframe tbody tr th {\n",
       "        vertical-align: top;\n",
       "    }\n",
       "\n",
       "    .dataframe thead th {\n",
       "        text-align: right;\n",
       "    }\n",
       "</style>\n",
       "<table border=\"1\" class=\"dataframe\">\n",
       "  <thead>\n",
       "    <tr style=\"text-align: right;\">\n",
       "      <th></th>\n",
       "      <th>long_hair</th>\n",
       "      <th>forehead_width_cm</th>\n",
       "      <th>forehead_height_cm</th>\n",
       "      <th>nose_wide</th>\n",
       "      <th>nose_long</th>\n",
       "      <th>lips_thin</th>\n",
       "      <th>distance_nose_to_lip_long</th>\n",
       "      <th>gender</th>\n",
       "    </tr>\n",
       "  </thead>\n",
       "  <tbody>\n",
       "    <tr>\n",
       "      <th>0</th>\n",
       "      <td>1</td>\n",
       "      <td>11.8</td>\n",
       "      <td>6.1</td>\n",
       "      <td>1</td>\n",
       "      <td>0</td>\n",
       "      <td>1</td>\n",
       "      <td>1</td>\n",
       "      <td>1</td>\n",
       "    </tr>\n",
       "    <tr>\n",
       "      <th>1</th>\n",
       "      <td>0</td>\n",
       "      <td>14.0</td>\n",
       "      <td>5.4</td>\n",
       "      <td>0</td>\n",
       "      <td>0</td>\n",
       "      <td>1</td>\n",
       "      <td>0</td>\n",
       "      <td>0</td>\n",
       "    </tr>\n",
       "    <tr>\n",
       "      <th>2</th>\n",
       "      <td>0</td>\n",
       "      <td>11.8</td>\n",
       "      <td>6.3</td>\n",
       "      <td>1</td>\n",
       "      <td>1</td>\n",
       "      <td>1</td>\n",
       "      <td>1</td>\n",
       "      <td>1</td>\n",
       "    </tr>\n",
       "    <tr>\n",
       "      <th>3</th>\n",
       "      <td>0</td>\n",
       "      <td>14.4</td>\n",
       "      <td>6.1</td>\n",
       "      <td>0</td>\n",
       "      <td>1</td>\n",
       "      <td>1</td>\n",
       "      <td>1</td>\n",
       "      <td>1</td>\n",
       "    </tr>\n",
       "    <tr>\n",
       "      <th>4</th>\n",
       "      <td>1</td>\n",
       "      <td>13.5</td>\n",
       "      <td>5.9</td>\n",
       "      <td>0</td>\n",
       "      <td>0</td>\n",
       "      <td>0</td>\n",
       "      <td>0</td>\n",
       "      <td>0</td>\n",
       "    </tr>\n",
       "    <tr>\n",
       "      <th>...</th>\n",
       "      <td>...</td>\n",
       "      <td>...</td>\n",
       "      <td>...</td>\n",
       "      <td>...</td>\n",
       "      <td>...</td>\n",
       "      <td>...</td>\n",
       "      <td>...</td>\n",
       "      <td>...</td>\n",
       "    </tr>\n",
       "    <tr>\n",
       "      <th>4996</th>\n",
       "      <td>1</td>\n",
       "      <td>13.6</td>\n",
       "      <td>5.1</td>\n",
       "      <td>0</td>\n",
       "      <td>0</td>\n",
       "      <td>0</td>\n",
       "      <td>0</td>\n",
       "      <td>0</td>\n",
       "    </tr>\n",
       "    <tr>\n",
       "      <th>4997</th>\n",
       "      <td>1</td>\n",
       "      <td>11.9</td>\n",
       "      <td>5.4</td>\n",
       "      <td>0</td>\n",
       "      <td>0</td>\n",
       "      <td>0</td>\n",
       "      <td>0</td>\n",
       "      <td>0</td>\n",
       "    </tr>\n",
       "    <tr>\n",
       "      <th>4998</th>\n",
       "      <td>1</td>\n",
       "      <td>12.9</td>\n",
       "      <td>5.7</td>\n",
       "      <td>0</td>\n",
       "      <td>0</td>\n",
       "      <td>0</td>\n",
       "      <td>0</td>\n",
       "      <td>0</td>\n",
       "    </tr>\n",
       "    <tr>\n",
       "      <th>4999</th>\n",
       "      <td>1</td>\n",
       "      <td>13.2</td>\n",
       "      <td>6.2</td>\n",
       "      <td>0</td>\n",
       "      <td>0</td>\n",
       "      <td>0</td>\n",
       "      <td>0</td>\n",
       "      <td>0</td>\n",
       "    </tr>\n",
       "    <tr>\n",
       "      <th>5000</th>\n",
       "      <td>1</td>\n",
       "      <td>15.4</td>\n",
       "      <td>5.4</td>\n",
       "      <td>1</td>\n",
       "      <td>1</td>\n",
       "      <td>1</td>\n",
       "      <td>1</td>\n",
       "      <td>1</td>\n",
       "    </tr>\n",
       "  </tbody>\n",
       "</table>\n",
       "<p>5001 rows × 8 columns</p>\n",
       "</div>"
      ],
      "text/plain": [
       "      long_hair  forehead_width_cm  forehead_height_cm  nose_wide  nose_long  \\\n",
       "0             1               11.8                 6.1          1          0   \n",
       "1             0               14.0                 5.4          0          0   \n",
       "2             0               11.8                 6.3          1          1   \n",
       "3             0               14.4                 6.1          0          1   \n",
       "4             1               13.5                 5.9          0          0   \n",
       "...         ...                ...                 ...        ...        ...   \n",
       "4996          1               13.6                 5.1          0          0   \n",
       "4997          1               11.9                 5.4          0          0   \n",
       "4998          1               12.9                 5.7          0          0   \n",
       "4999          1               13.2                 6.2          0          0   \n",
       "5000          1               15.4                 5.4          1          1   \n",
       "\n",
       "      lips_thin  distance_nose_to_lip_long  gender  \n",
       "0             1                          1       1  \n",
       "1             1                          0       0  \n",
       "2             1                          1       1  \n",
       "3             1                          1       1  \n",
       "4             0                          0       0  \n",
       "...         ...                        ...     ...  \n",
       "4996          0                          0       0  \n",
       "4997          0                          0       0  \n",
       "4998          0                          0       0  \n",
       "4999          0                          0       0  \n",
       "5000          1                          1       1  \n",
       "\n",
       "[5001 rows x 8 columns]"
      ]
     },
     "execution_count": 9,
     "metadata": {},
     "output_type": "execute_result"
    }
   ],
   "source": [
    "df_dummies"
   ]
  },
  {
   "cell_type": "code",
   "execution_count": 10,
   "id": "1ff2beda",
   "metadata": {},
   "outputs": [
    {
     "data": {
      "text/plain": [
       "0"
      ]
     },
     "execution_count": 10,
     "metadata": {},
     "output_type": "execute_result"
    }
   ],
   "source": [
    "#checking the null value in dataset\n",
    "df.isnull().sum().max()"
   ]
  },
  {
   "cell_type": "code",
   "execution_count": 11,
   "id": "56d455db",
   "metadata": {},
   "outputs": [
    {
     "data": {
      "text/html": [
       "<div>\n",
       "<style scoped>\n",
       "    .dataframe tbody tr th:only-of-type {\n",
       "        vertical-align: middle;\n",
       "    }\n",
       "\n",
       "    .dataframe tbody tr th {\n",
       "        vertical-align: top;\n",
       "    }\n",
       "\n",
       "    .dataframe thead th {\n",
       "        text-align: right;\n",
       "    }\n",
       "</style>\n",
       "<table border=\"1\" class=\"dataframe\">\n",
       "  <thead>\n",
       "    <tr style=\"text-align: right;\">\n",
       "      <th></th>\n",
       "      <th>long_hair</th>\n",
       "      <th>forehead_width_cm</th>\n",
       "      <th>forehead_height_cm</th>\n",
       "      <th>nose_wide</th>\n",
       "      <th>nose_long</th>\n",
       "      <th>lips_thin</th>\n",
       "      <th>distance_nose_to_lip_long</th>\n",
       "      <th>gender</th>\n",
       "    </tr>\n",
       "  </thead>\n",
       "  <tbody>\n",
       "    <tr>\n",
       "      <th>count</th>\n",
       "      <td>5001.000000</td>\n",
       "      <td>5001.000000</td>\n",
       "      <td>5001.000000</td>\n",
       "      <td>5001.000000</td>\n",
       "      <td>5001.000000</td>\n",
       "      <td>5001.000000</td>\n",
       "      <td>5001.000000</td>\n",
       "      <td>5001.00000</td>\n",
       "    </tr>\n",
       "    <tr>\n",
       "      <th>mean</th>\n",
       "      <td>0.869626</td>\n",
       "      <td>13.181484</td>\n",
       "      <td>5.946311</td>\n",
       "      <td>0.493901</td>\n",
       "      <td>0.507898</td>\n",
       "      <td>0.493101</td>\n",
       "      <td>0.498900</td>\n",
       "      <td>0.49990</td>\n",
       "    </tr>\n",
       "    <tr>\n",
       "      <th>std</th>\n",
       "      <td>0.336748</td>\n",
       "      <td>1.107128</td>\n",
       "      <td>0.541268</td>\n",
       "      <td>0.500013</td>\n",
       "      <td>0.499988</td>\n",
       "      <td>0.500002</td>\n",
       "      <td>0.500049</td>\n",
       "      <td>0.50005</td>\n",
       "    </tr>\n",
       "    <tr>\n",
       "      <th>min</th>\n",
       "      <td>0.000000</td>\n",
       "      <td>11.400000</td>\n",
       "      <td>5.100000</td>\n",
       "      <td>0.000000</td>\n",
       "      <td>0.000000</td>\n",
       "      <td>0.000000</td>\n",
       "      <td>0.000000</td>\n",
       "      <td>0.00000</td>\n",
       "    </tr>\n",
       "    <tr>\n",
       "      <th>25%</th>\n",
       "      <td>1.000000</td>\n",
       "      <td>12.200000</td>\n",
       "      <td>5.500000</td>\n",
       "      <td>0.000000</td>\n",
       "      <td>0.000000</td>\n",
       "      <td>0.000000</td>\n",
       "      <td>0.000000</td>\n",
       "      <td>0.00000</td>\n",
       "    </tr>\n",
       "    <tr>\n",
       "      <th>50%</th>\n",
       "      <td>1.000000</td>\n",
       "      <td>13.100000</td>\n",
       "      <td>5.900000</td>\n",
       "      <td>0.000000</td>\n",
       "      <td>1.000000</td>\n",
       "      <td>0.000000</td>\n",
       "      <td>0.000000</td>\n",
       "      <td>0.00000</td>\n",
       "    </tr>\n",
       "    <tr>\n",
       "      <th>75%</th>\n",
       "      <td>1.000000</td>\n",
       "      <td>14.000000</td>\n",
       "      <td>6.400000</td>\n",
       "      <td>1.000000</td>\n",
       "      <td>1.000000</td>\n",
       "      <td>1.000000</td>\n",
       "      <td>1.000000</td>\n",
       "      <td>1.00000</td>\n",
       "    </tr>\n",
       "    <tr>\n",
       "      <th>max</th>\n",
       "      <td>1.000000</td>\n",
       "      <td>15.500000</td>\n",
       "      <td>7.100000</td>\n",
       "      <td>1.000000</td>\n",
       "      <td>1.000000</td>\n",
       "      <td>1.000000</td>\n",
       "      <td>1.000000</td>\n",
       "      <td>1.00000</td>\n",
       "    </tr>\n",
       "  </tbody>\n",
       "</table>\n",
       "</div>"
      ],
      "text/plain": [
       "         long_hair  forehead_width_cm  forehead_height_cm    nose_wide  \\\n",
       "count  5001.000000        5001.000000         5001.000000  5001.000000   \n",
       "mean      0.869626          13.181484            5.946311     0.493901   \n",
       "std       0.336748           1.107128            0.541268     0.500013   \n",
       "min       0.000000          11.400000            5.100000     0.000000   \n",
       "25%       1.000000          12.200000            5.500000     0.000000   \n",
       "50%       1.000000          13.100000            5.900000     0.000000   \n",
       "75%       1.000000          14.000000            6.400000     1.000000   \n",
       "max       1.000000          15.500000            7.100000     1.000000   \n",
       "\n",
       "         nose_long    lips_thin  distance_nose_to_lip_long      gender  \n",
       "count  5001.000000  5001.000000                5001.000000  5001.00000  \n",
       "mean      0.507898     0.493101                   0.498900     0.49990  \n",
       "std       0.499988     0.500002                   0.500049     0.50005  \n",
       "min       0.000000     0.000000                   0.000000     0.00000  \n",
       "25%       0.000000     0.000000                   0.000000     0.00000  \n",
       "50%       1.000000     0.000000                   0.000000     0.00000  \n",
       "75%       1.000000     1.000000                   1.000000     1.00000  \n",
       "max       1.000000     1.000000                   1.000000     1.00000  "
      ]
     },
     "execution_count": 11,
     "metadata": {},
     "output_type": "execute_result"
    }
   ],
   "source": [
    "df_dummies.describe()"
   ]
  },
  {
   "cell_type": "code",
   "execution_count": 12,
   "id": "6ef7693d",
   "metadata": {
    "scrolled": true
   },
   "outputs": [
    {
     "data": {
      "text/plain": [
       "0    2501\n",
       "1    2500\n",
       "Name: gender, dtype: int64"
      ]
     },
     "execution_count": 12,
     "metadata": {},
     "output_type": "execute_result"
    }
   ],
   "source": [
    "df_dummies['gender'].value_counts()"
   ]
  },
  {
   "cell_type": "code",
   "execution_count": 13,
   "id": "06eac419",
   "metadata": {},
   "outputs": [
    {
     "data": {
      "image/png": "[encoded data removed]",
      "text/plain": [
       "<Figure size 432x288 with 1 Axes>"
      ]
     },
     "metadata": {
      "needs_background": "light"
     },
     "output_type": "display_data"
    }
   ],
   "source": [
    "#Plot a histogram of the label\n",
    "_ = df_dummies['gender'].hist()"
   ]
  },
  {
   "cell_type": "code",
   "execution_count": 131,
   "id": "c3d56a33",
   "metadata": {},
   "outputs": [
    {
     "ename": "SyntaxError",
     "evalue": "invalid syntax (Temp/ipykernel_15936/4216370493.py, line 7)",
     "output_type": "error",
     "traceback": [
      "\u001b[1;36m  File \u001b[1;32m\"C:\\Users\\praka\\AppData\\Local\\Temp/ipykernel_15936/4216370493.py\"\u001b[1;36m, line \u001b[1;32m7\u001b[0m\n\u001b[1;33m    H = -sum[(count/n)*log((count/n)) for clas, count in classes])\u001b[0m\n\u001b[1;37m                                      ^\u001b[0m\n\u001b[1;31mSyntaxError\u001b[0m\u001b[1;31m:\u001b[0m invalid syntax\n"
     ]
    }
   ],
   "source": [
    "def balance(seq):\n",
    "    from collection import counter\n",
    "    from numpy import log\n",
    "    n = len(seq)\n",
    "    classes =[(clas,float(count)) for clas,count in Counter(seq).item()]\n",
    "    k = len(classes)\n",
    "    H = -sum[(count/n)*log((count/n)) for clas, count in classes])\n",
    "    return H/log(k)"
   ]
  },
  {
   "cell_type": "code",
   "execution_count": 128,
   "id": "5ec6d4e6",
   "metadata": {},
   "outputs": [
    {
     "data": {
      "text/plain": [
       "0.5000999800039992"
      ]
     },
     "execution_count": 128,
     "metadata": {},
     "output_type": "execute_result"
    }
   ],
   "source": [
    "#checking the imbalanced in the dataset\n",
    "df_dummies[df_dummies['gender']==1] ['gender'].count()/df_dummies[\"gender\"].count()"
   ]
  },
  {
   "cell_type": "code",
   "execution_count": 15,
   "id": "237a4cf3",
   "metadata": {},
   "outputs": [],
   "source": [
    "# grouped = df.groupby(df.gender)\n",
    "# df_class_one = grouped.get_group(1)\n",
    "# df_class_zero = grouped.get_group(0)\n",
    "# print(df_class_one.shape,df_class_zero.shape)"
   ]
  },
  {
   "cell_type": "code",
   "execution_count": 16,
   "id": "bfce3e39",
   "metadata": {},
   "outputs": [],
   "source": [
    "# gender_grp = df_dummies.groupby(['gender'])\n",
    "# df_dummies_one = gender_grp.get_group(1)\n",
    "# df_dummies_zero = gender_grp.get_group(0)\n",
    "# print(df_dummies_one.shape,df_dummies_zero.shape)"
   ]
  },
  {
   "cell_type": "code",
   "execution_count": 17,
   "id": "2b7149ec",
   "metadata": {},
   "outputs": [],
   "source": [
    "df_class_0 = df_dummies[df_dummies['gender'] == 0 ]\n",
    "df_class_1 = df_dummies[df_dummies['gender'] == 1 ]"
   ]
  },
  {
   "cell_type": "code",
   "execution_count": 18,
   "id": "e6ee0026",
   "metadata": {},
   "outputs": [
    {
     "name": "stdout",
     "output_type": "stream",
     "text": [
      "2501 2500\n"
     ]
    }
   ],
   "source": [
    "print(len(df_class_0),len(df_class_1))"
   ]
  },
  {
   "cell_type": "markdown",
   "id": "677733d5",
   "metadata": {},
   "source": [
    "### Applying downsampling technique to make dataset imbalanced"
   ]
  },
  {
   "cell_type": "code",
   "execution_count": 19,
   "id": "82ca6b44",
   "metadata": {},
   "outputs": [],
   "source": [
    "\n",
    "#65 % imbalance\n",
    "new_df_class_0_low_imb= int(len(df_class_1)/65)*35\n",
    "df_class_0_low_imb = df_class_0.sample(new_df_class_0_low_imb)\n",
    "df_class_1_low_imb = df_class_1\n",
    "#75% imbalance\n",
    "new_df_class_0_mid_imb= int(len(df_class_1)/75)*25\n",
    "df_class_0_mid_imb = df_class_0.sample(new_df_class_0_mid_imb)\n",
    "df_class_1_mid_imb = df_class_1\n",
    "#90% imbalance\n",
    "new_df_class_0_high_imb= int(len(df_class_1)/90)*10\n",
    "df_class_0_high_imb = df_class_0.sample(new_df_class_0_high_imb)\n",
    "df_class_1_high_imb = df_class_1\n"
   ]
  },
  {
   "cell_type": "code",
   "execution_count": 20,
   "id": "f4ce63f2",
   "metadata": {},
   "outputs": [
    {
     "name": "stdout",
     "output_type": "stream",
     "text": [
      "1330 2500\n"
     ]
    }
   ],
   "source": [
    "print(len(df_class_0_low_imb),len(df_class_1))"
   ]
  },
  {
   "cell_type": "code",
   "execution_count": 21,
   "id": "c0a54ce7",
   "metadata": {},
   "outputs": [
    {
     "name": "stdout",
     "output_type": "stream",
     "text": [
      "34.72584856396867\n",
      "65.27415143603133\n"
     ]
    }
   ],
   "source": [
    "print((len(df_class_0_low_imb)/(len(df_class_0_low_imb)+len(df_class_1)))*100)\n",
    "print((len(df_class_1)/(len(df_class_0_low_imb)+len(df_class_1)))*100)"
   ]
  },
  {
   "cell_type": "code",
   "execution_count": 22,
   "id": "d7ced226",
   "metadata": {},
   "outputs": [],
   "source": [
    "df_low_imbalanced = pd.concat([df_class_0_low_imb, df_class_1], axis=0)\n",
    "df_mid_imbalanced = pd.concat([df_class_0_mid_imb, df_class_1], axis=0)\n",
    "df_high_imbalanced = pd.concat([df_class_0_high_imb, df_class_1_high_imb], axis=0)"
   ]
  },
  {
   "cell_type": "code",
   "execution_count": 23,
   "id": "38525d5f",
   "metadata": {},
   "outputs": [
    {
     "data": {
      "text/html": [
       "<div>\n",
       "<style scoped>\n",
       "    .dataframe tbody tr th:only-of-type {\n",
       "        vertical-align: middle;\n",
       "    }\n",
       "\n",
       "    .dataframe tbody tr th {\n",
       "        vertical-align: top;\n",
       "    }\n",
       "\n",
       "    .dataframe thead th {\n",
       "        text-align: right;\n",
       "    }\n",
       "</style>\n",
       "<table border=\"1\" class=\"dataframe\">\n",
       "  <thead>\n",
       "    <tr style=\"text-align: right;\">\n",
       "      <th></th>\n",
       "      <th>long_hair</th>\n",
       "      <th>forehead_width_cm</th>\n",
       "      <th>forehead_height_cm</th>\n",
       "      <th>nose_wide</th>\n",
       "      <th>nose_long</th>\n",
       "      <th>lips_thin</th>\n",
       "      <th>distance_nose_to_lip_long</th>\n",
       "      <th>gender</th>\n",
       "    </tr>\n",
       "  </thead>\n",
       "  <tbody>\n",
       "    <tr>\n",
       "      <th>3691</th>\n",
       "      <td>1</td>\n",
       "      <td>12.3</td>\n",
       "      <td>6.2</td>\n",
       "      <td>0</td>\n",
       "      <td>0</td>\n",
       "      <td>0</td>\n",
       "      <td>0</td>\n",
       "      <td>0</td>\n",
       "    </tr>\n",
       "    <tr>\n",
       "      <th>562</th>\n",
       "      <td>1</td>\n",
       "      <td>13.8</td>\n",
       "      <td>5.1</td>\n",
       "      <td>1</td>\n",
       "      <td>0</td>\n",
       "      <td>0</td>\n",
       "      <td>0</td>\n",
       "      <td>0</td>\n",
       "    </tr>\n",
       "    <tr>\n",
       "      <th>1191</th>\n",
       "      <td>1</td>\n",
       "      <td>14.2</td>\n",
       "      <td>6.5</td>\n",
       "      <td>0</td>\n",
       "      <td>0</td>\n",
       "      <td>1</td>\n",
       "      <td>0</td>\n",
       "      <td>0</td>\n",
       "    </tr>\n",
       "    <tr>\n",
       "      <th>3791</th>\n",
       "      <td>1</td>\n",
       "      <td>11.7</td>\n",
       "      <td>5.2</td>\n",
       "      <td>0</td>\n",
       "      <td>0</td>\n",
       "      <td>0</td>\n",
       "      <td>1</td>\n",
       "      <td>0</td>\n",
       "    </tr>\n",
       "    <tr>\n",
       "      <th>1851</th>\n",
       "      <td>0</td>\n",
       "      <td>13.6</td>\n",
       "      <td>5.4</td>\n",
       "      <td>0</td>\n",
       "      <td>0</td>\n",
       "      <td>0</td>\n",
       "      <td>0</td>\n",
       "      <td>0</td>\n",
       "    </tr>\n",
       "    <tr>\n",
       "      <th>...</th>\n",
       "      <td>...</td>\n",
       "      <td>...</td>\n",
       "      <td>...</td>\n",
       "      <td>...</td>\n",
       "      <td>...</td>\n",
       "      <td>...</td>\n",
       "      <td>...</td>\n",
       "      <td>...</td>\n",
       "    </tr>\n",
       "    <tr>\n",
       "      <th>4987</th>\n",
       "      <td>1</td>\n",
       "      <td>12.1</td>\n",
       "      <td>6.2</td>\n",
       "      <td>1</td>\n",
       "      <td>1</td>\n",
       "      <td>1</td>\n",
       "      <td>1</td>\n",
       "      <td>1</td>\n",
       "    </tr>\n",
       "    <tr>\n",
       "      <th>4992</th>\n",
       "      <td>1</td>\n",
       "      <td>14.1</td>\n",
       "      <td>7.0</td>\n",
       "      <td>1</td>\n",
       "      <td>1</td>\n",
       "      <td>1</td>\n",
       "      <td>1</td>\n",
       "      <td>1</td>\n",
       "    </tr>\n",
       "    <tr>\n",
       "      <th>4994</th>\n",
       "      <td>1</td>\n",
       "      <td>12.9</td>\n",
       "      <td>7.0</td>\n",
       "      <td>1</td>\n",
       "      <td>1</td>\n",
       "      <td>1</td>\n",
       "      <td>1</td>\n",
       "      <td>1</td>\n",
       "    </tr>\n",
       "    <tr>\n",
       "      <th>4995</th>\n",
       "      <td>1</td>\n",
       "      <td>12.3</td>\n",
       "      <td>6.9</td>\n",
       "      <td>0</td>\n",
       "      <td>1</td>\n",
       "      <td>1</td>\n",
       "      <td>1</td>\n",
       "      <td>1</td>\n",
       "    </tr>\n",
       "    <tr>\n",
       "      <th>5000</th>\n",
       "      <td>1</td>\n",
       "      <td>15.4</td>\n",
       "      <td>5.4</td>\n",
       "      <td>1</td>\n",
       "      <td>1</td>\n",
       "      <td>1</td>\n",
       "      <td>1</td>\n",
       "      <td>1</td>\n",
       "    </tr>\n",
       "  </tbody>\n",
       "</table>\n",
       "<p>3325 rows × 8 columns</p>\n",
       "</div>"
      ],
      "text/plain": [
       "      long_hair  forehead_width_cm  forehead_height_cm  nose_wide  nose_long  \\\n",
       "3691          1               12.3                 6.2          0          0   \n",
       "562           1               13.8                 5.1          1          0   \n",
       "1191          1               14.2                 6.5          0          0   \n",
       "3791          1               11.7                 5.2          0          0   \n",
       "1851          0               13.6                 5.4          0          0   \n",
       "...         ...                ...                 ...        ...        ...   \n",
       "4987          1               12.1                 6.2          1          1   \n",
       "4992          1               14.1                 7.0          1          1   \n",
       "4994          1               12.9                 7.0          1          1   \n",
       "4995          1               12.3                 6.9          0          1   \n",
       "5000          1               15.4                 5.4          1          1   \n",
       "\n",
       "      lips_thin  distance_nose_to_lip_long  gender  \n",
       "3691          0                          0       0  \n",
       "562           0                          0       0  \n",
       "1191          1                          0       0  \n",
       "3791          0                          1       0  \n",
       "1851          0                          0       0  \n",
       "...         ...                        ...     ...  \n",
       "4987          1                          1       1  \n",
       "4992          1                          1       1  \n",
       "4994          1                          1       1  \n",
       "4995          1                          1       1  \n",
       "5000          1                          1       1  \n",
       "\n",
       "[3325 rows x 8 columns]"
      ]
     },
     "execution_count": 23,
     "metadata": {},
     "output_type": "execute_result"
    }
   ],
   "source": [
    "df_mid_imbalanced"
   ]
  },
  {
   "cell_type": "code",
   "execution_count": 24,
   "id": "7868f622",
   "metadata": {},
   "outputs": [
    {
     "data": {
      "text/plain": [
       "1    2500\n",
       "0    1330\n",
       "Name: gender, dtype: int64"
      ]
     },
     "execution_count": 24,
     "metadata": {},
     "output_type": "execute_result"
    },
    {
     "data": {
      "image/png": "[encoded data removed]",
      "text/plain": [
       "<Figure size 432x288 with 1 Axes>"
      ]
     },
     "metadata": {
      "needs_background": "light"
     },
     "output_type": "display_data"
    }
   ],
   "source": [
    "_ = df_low_imbalanced['gender'].hist()\n",
    "df_low_imbalanced['gender'].value_counts()"
   ]
  },
  {
   "cell_type": "code",
   "execution_count": 25,
   "id": "a88e3c4b",
   "metadata": {},
   "outputs": [
    {
     "data": {
      "text/plain": [
       "1    2500\n",
       "0     825\n",
       "Name: gender, dtype: int64"
      ]
     },
     "execution_count": 25,
     "metadata": {},
     "output_type": "execute_result"
    },
    {
     "data": {
      "image/png": "[encoded data removed]",
      "text/plain": [
       "<Figure size 432x288 with 1 Axes>"
      ]
     },
     "metadata": {
      "needs_background": "light"
     },
     "output_type": "display_data"
    }
   ],
   "source": [
    "_ = df_mid_imbalanced['gender'].hist()\n",
    "df_mid_imbalanced['gender'].value_counts()"
   ]
  },
  {
   "cell_type": "code",
   "execution_count": 26,
   "id": "dc3a3c16",
   "metadata": {},
   "outputs": [
    {
     "data": {
      "text/plain": [
       "1    2500\n",
       "0     270\n",
       "Name: gender, dtype: int64"
      ]
     },
     "execution_count": 26,
     "metadata": {},
     "output_type": "execute_result"
    },
    {
     "data": {
      "image/png": "[encoded data removed]",
      "text/plain": [
       "<Figure size 432x288 with 1 Axes>"
      ]
     },
     "metadata": {
      "needs_background": "light"
     },
     "output_type": "display_data"
    }
   ],
   "source": [
    "_ = df_high_imbalanced['gender'].hist()\n",
    "df_high_imbalanced['gender'].value_counts()"
   ]
  },
  {
   "cell_type": "markdown",
   "id": "b433afe7",
   "metadata": {},
   "source": [
    "### Establishing a baseline and performing stratified cross validatation on each of the datasets and thier surrogates "
   ]
  },
  {
   "cell_type": "code",
   "execution_count": 27,
   "id": "00b09c5d",
   "metadata": {},
   "outputs": [
    {
     "name": "stdout",
     "output_type": "stream",
     "text": [
      "For Fold 0 the accuracy is 0.9520958083832335\n",
      "For Fold 1 the accuracy is 0.966\n",
      "For Fold 2 the accuracy is 0.976\n",
      "For Fold 3 the accuracy is 0.96\n",
      "For Fold 4 the accuracy is 0.98\n",
      "For Fold 5 the accuracy is 0.976\n",
      "For Fold 6 the accuracy is 0.968\n",
      "For Fold 7 the accuracy is 0.97\n",
      "For Fold 8 the accuracy is 0.978\n",
      "For Fold 9 the accuracy is 0.978\n",
      "For Fold 0 the accuracy is 0.9686684073107049\n",
      "For Fold 1 the accuracy is 0.9712793733681462\n",
      "For Fold 2 the accuracy is 0.9869451697127938\n",
      "For Fold 3 the accuracy is 0.9660574412532638\n",
      "For Fold 4 the accuracy is 0.9634464751958225\n",
      "For Fold 5 the accuracy is 0.9765013054830287\n",
      "For Fold 6 the accuracy is 0.9712793733681462\n",
      "For Fold 7 the accuracy is 0.9660574412532638\n",
      "For Fold 8 the accuracy is 0.9686684073107049\n",
      "For Fold 9 the accuracy is 0.9738903394255874\n",
      "For Fold 0 the accuracy is 0.954954954954955\n",
      "For Fold 1 the accuracy is 0.978978978978979\n",
      "For Fold 2 the accuracy is 0.9669669669669669\n",
      "For Fold 3 the accuracy is 0.9579579579579579\n",
      "For Fold 4 the accuracy is 0.963963963963964\n",
      "For Fold 5 the accuracy is 0.9698795180722891\n",
      "For Fold 6 the accuracy is 0.9849397590361446\n",
      "For Fold 7 the accuracy is 0.9728915662650602\n",
      "For Fold 8 the accuracy is 0.9728915662650602\n",
      "For Fold 9 the accuracy is 0.9759036144578314\n",
      "For Fold 0 the accuracy is 0.9602888086642599\n",
      "For Fold 1 the accuracy is 0.9530685920577617\n",
      "For Fold 2 the accuracy is 0.9494584837545126\n",
      "For Fold 3 the accuracy is 0.9747292418772563\n",
      "For Fold 4 the accuracy is 0.9638989169675091\n",
      "For Fold 5 the accuracy is 0.9566787003610109\n",
      "For Fold 6 the accuracy is 0.9638989169675091\n",
      "For Fold 7 the accuracy is 0.9783393501805054\n",
      "For Fold 8 the accuracy is 0.9855595667870036\n",
      "For Fold 9 the accuracy is 0.9711191335740073\n"
     ]
    }
   ],
   "source": [
    "# Allocating the features and labels of the dataset and their surrogates\n",
    "\n",
    "features_df_dummies = df_dummies.drop('gender', axis=1)\n",
    "labels_df_dummies = df_dummies['gender']\n",
    "\n",
    "\n",
    "features_low_imb = df_low_imbalanced.drop('gender', axis=1)\n",
    "labels_low_imb = df_low_imbalanced['gender']\n",
    "\n",
    "\n",
    "features_mid_imb = df_mid_imbalanced.drop('gender', axis=1)\n",
    "labels_mid_imb = df_mid_imbalanced['gender']\n",
    "\n",
    "\n",
    "features_high_imb = df_high_imbalanced.drop('gender', axis=1)\n",
    "labels_high_imb = df_high_imbalanced['gender']\n",
    "\n",
    "\n",
    "Data_sets = [df_dummies, df_low_imbalanced, df_mid_imbalanced, df_high_imbalanced]\n",
    "\n",
    "\n",
    "\n",
    "fold_no=0\n",
    "\n",
    "from sklearn.model_selection import StratifiedKFold\n",
    "accuracy=[]\n",
    "skf = StratifiedKFold(n_splits=10, random_state=None)\n",
    "skf.split(features_df_dummies,labels_df_dummies)\n",
    "model =RandomForestClassifier()\n",
    "\n",
    "for train_index, test_index in skf.split(features_df_dummies,labels_df_dummies):\n",
    "    #print(\"Train:\", train_index,\"Validation:\", test_index)\n",
    "    #train_org_X, test_org_X = features_df_dummies.iloc[train_index], features_df_dummies.iloc[test_index]\n",
    "    #train_org_Y, test_org_Y = labels_df_dummies.iloc[train_index], labels_df_dummies.iloc[test_index]\n",
    "    \n",
    "    train = df_dummies.iloc[train_index,:]\n",
    "    test = df_dummies.iloc[test_index,:]\n",
    "    \n",
    "    \n",
    "    train_org_X = train.drop(['gender'],axis=1)\n",
    "    train_org_Y = train.gender\n",
    "    test_org_X = test.drop(['gender'],axis=1)\n",
    "    test_org_Y = test.gender\n",
    "    model.fit(train_org_X, train_org_Y)\n",
    "    score = model.score(test_org_X,test_org_Y)\n",
    "    print('For Fold {} the accuracy is {}'.format(str(fold_no),score))\n",
    "    \n",
    "    \n",
    "    fold_no += 1\n",
    "\n",
    "\n",
    "fold_no=0\n",
    "\n",
    "from sklearn.model_selection import StratifiedKFold\n",
    "accuracy=[]\n",
    "skf = StratifiedKFold(n_splits=10, random_state=None)\n",
    "skf.split(features_low_imb,labels_low_imb)\n",
    "model =RandomForestClassifier()\n",
    "\n",
    "for train_index, test_index in skf.split(features_low_imb,labels_low_imb):\n",
    "    \n",
    "    train = df_low_imbalanced.iloc[train_index,:]\n",
    "    test = df_low_imbalanced.iloc[test_index,:]\n",
    "    \n",
    "    \n",
    "    trainX = train.drop(['gender'],axis=1)\n",
    "    trainY = train.gender\n",
    "    testX = test.drop(['gender'],axis=1)\n",
    "    testY = test.gender\n",
    "    model.fit(trainX, trainY)\n",
    "    score = model.score(testX,testY)\n",
    "    print('For Fold {} the accuracy is {}'.format(str(fold_no),score))\n",
    "    \n",
    "    \n",
    "    fold_no += 1\n",
    "\n",
    "    \n",
    "fold_no=0\n",
    "\n",
    "from sklearn.model_selection import StratifiedKFold\n",
    "accuracy=[]\n",
    "skf = StratifiedKFold(n_splits=10, random_state=None)\n",
    "skf.split(features_mid_imb,labels_mid_imb)\n",
    "model =RandomForestClassifier()\n",
    "\n",
    "for train_index, test_index in skf.split(features_mid_imb,labels_mid_imb):\n",
    "    #print(\"Train:\", train_index,\"Validation:\", test_index)\n",
    "    #train_org_X, test_org_X = features_df_dummies.iloc[train_index], features_df_dummies.iloc[test_index]\n",
    "    #train_org_Y, test_org_Y = labels_df_dummies.iloc[train_index], labels_df_dummies.iloc[test_index]\n",
    "    \n",
    "    train = df_dummies.iloc[train_index,:]\n",
    "    test = df_dummies.iloc[test_index,:]\n",
    "    \n",
    "    \n",
    "    trainA = train.drop(['gender'],axis=1)\n",
    "    trainB = train.gender\n",
    "    testA = test.drop(['gender'],axis=1)\n",
    "    testB = test.gender\n",
    "    model.fit(trainA, trainB)\n",
    "    score = model.score(testA,testB)\n",
    "    print('For Fold {} the accuracy is {}'.format(str(fold_no),score))\n",
    "    \n",
    "    \n",
    "    fold_no += 1\n",
    "\n",
    "    \n",
    "    \n",
    "fold_no=0\n",
    "\n",
    "from sklearn.model_selection import StratifiedKFold\n",
    "accuracy=[]\n",
    "skf = StratifiedKFold(n_splits=10, random_state=None)\n",
    "skf.split(features_df_dummies,labels_df_dummies)\n",
    "model =RandomForestClassifier()\n",
    "\n",
    "for train_index, test_index in skf.split(features_high_imb,labels_high_imb):\n",
    "    #print(\"Train:\", train_index,\"Validation:\", test_index)\n",
    "    #train_org_X, test_org_X = features_df_dummies.iloc[train_index], features_df_dummies.iloc[test_index]\n",
    "    #train_org_Y, test_org_Y = labels_df_dummies.iloc[train_index], labels_df_dummies.iloc[test_index]\n",
    "    \n",
    "    train = df_dummies.iloc[train_index,:]\n",
    "    test = df_dummies.iloc[test_index,:]\n",
    "    \n",
    "    \n",
    "    trainC = train.drop(['gender'],axis=1)\n",
    "    trainD = train.gender\n",
    "    testC = test.drop(['gender'],axis=1)\n",
    "    testD = test.gender\n",
    "    model.fit(trainC, trainD)\n",
    "    score = model.score(testC,testD)\n",
    "    print('For Fold {} the accuracy is {}'.format(str(fold_no),score))\n",
    "    \n",
    "    \n",
    "    fold_no += 1\n",
    "\n",
    "    \n",
    "    \n",
    "\n",
    "\n",
    "\n",
    "\n",
    "\n",
    "\n",
    "\n"
   ]
  },
  {
   "cell_type": "markdown",
   "id": "dd9495fd",
   "metadata": {},
   "source": [
    "### Implementing Random forest to report the baseline rusult"
   ]
  },
  {
   "cell_type": "code",
   "execution_count": 28,
   "id": "3c65be7c",
   "metadata": {},
   "outputs": [
    {
     "name": "stdout",
     "output_type": "stream",
     "text": [
      "[[246   4]\n",
      " [  7 243]]\n",
      "0.978\n",
      "              precision    recall  f1-score   support\n",
      "\n",
      "           0       0.97      0.98      0.98       250\n",
      "           1       0.98      0.97      0.98       250\n",
      "\n",
      "    accuracy                           0.98       500\n",
      "   macro avg       0.98      0.98      0.98       500\n",
      "weighted avg       0.98      0.98      0.98       500\n",
      "\n",
      "[[130   3]\n",
      " [  7 243]]\n",
      "0.9738903394255874\n",
      "              precision    recall  f1-score   support\n",
      "\n",
      "           0       0.95      0.98      0.96       133\n",
      "           1       0.99      0.97      0.98       250\n",
      "\n",
      "    accuracy                           0.97       383\n",
      "   macro avg       0.97      0.97      0.97       383\n",
      "weighted avg       0.97      0.97      0.97       383\n",
      "\n",
      "[[173   3]\n",
      " [  4 152]]\n",
      "0.9789156626506024\n",
      "              precision    recall  f1-score   support\n",
      "\n",
      "           0       0.98      0.98      0.98       176\n",
      "           1       0.98      0.97      0.98       156\n",
      "\n",
      "    accuracy                           0.98       332\n",
      "   macro avg       0.98      0.98      0.98       332\n",
      "weighted avg       0.98      0.98      0.98       332\n",
      "\n",
      "[[130   3]\n",
      " [  5 139]]\n",
      "0.9711191335740073\n",
      "              precision    recall  f1-score   support\n",
      "\n",
      "           0       0.96      0.98      0.97       133\n",
      "           1       0.98      0.97      0.97       144\n",
      "\n",
      "    accuracy                           0.97       277\n",
      "   macro avg       0.97      0.97      0.97       277\n",
      "weighted avg       0.97      0.97      0.97       277\n",
      "\n"
     ]
    }
   ],
   "source": [
    "#Random forest classifier \n",
    "classifier=RandomForestClassifier()\n",
    "classifier.fit(train_org_X,train_org_Y)\n",
    "classifier.fit(trainX,trainY)\n",
    "classifier.fit(trainA,trainB)\n",
    "classifier.fit(trainC,trainD)\n",
    "\n",
    "# To mesure baseline result confusion matrix, accuracy scores,and classification report is generated for original dataset\n",
    "pred_org_Y=classifier.predict(test_org_X)\n",
    "print(confusion_matrix(test_org_Y,pred_org_Y))\n",
    "print(accuracy_score(test_org_Y,pred_org_Y))\n",
    "print(classification_report(test_org_Y,pred_org_Y))\n",
    "\n",
    "# To mesure baseline result confusion matrix, accuracy scores,and classification report is generated for low-imbalance dataset\n",
    "predY=classifier.predict(testX)\n",
    "print(confusion_matrix(testY,predY))\n",
    "print(accuracy_score(testY,predY))\n",
    "print(classification_report(testY,predY))\n",
    "\n",
    "\n",
    "# To mesure baseline result confusion matrix, accuracy scores,and classification report is generated for medium-imbalance dataset\n",
    "predB=classifier.predict(testA)\n",
    "print(confusion_matrix(testB,predB))\n",
    "print(accuracy_score(testB,predB))\n",
    "print(classification_report(testB,predB))\n",
    "\n",
    "\n",
    "# To mesure baseline result confusion matrix, accuracy scores,and classification report is generated for high-imbalance dataset\n",
    "predD=classifier.predict(testC)\n",
    "print(confusion_matrix(testD,predD))\n",
    "print(accuracy_score(testD,predD))\n",
    "print(classification_report(testD,predD))\n"
   ]
  },
  {
   "cell_type": "code",
   "execution_count": 29,
   "id": "21bf338c",
   "metadata": {},
   "outputs": [
    {
     "name": "stdout",
     "output_type": "stream",
     "text": [
      "0.9684483863020448\n",
      "0.9712790697674419\n",
      "0.9672564102564103\n",
      "0.9667164658634538\n"
     ]
    }
   ],
   "source": [
    "#Creating 10 stratifield fold\n",
    "\n",
    "cv = KFold(n_splits=10, random_state=1, shuffle=True)\n",
    "\n",
    "print(np.mean(cross_val_score(classifier, train_org_X, train_org_Y, cv = cv)))\n",
    "print(np.mean(cross_val_score(classifier, trainX, trainY, cv = cv)))\n",
    "print(np.mean(cross_val_score(classifier, trainA, trainB, cv = cv)))\n",
    "print(np.mean(cross_val_score(classifier, trainC, trainD, cv = cv)))"
   ]
  },
  {
   "cell_type": "markdown",
   "id": "2ae23324",
   "metadata": {},
   "source": [
    "### Elbow method for origianal dataset"
   ]
  },
  {
   "cell_type": "code",
   "execution_count": 30,
   "id": "25577c32",
   "metadata": {},
   "outputs": [
    {
     "name": "stdout",
     "output_type": "stream",
     "text": [
      "(4501, 7)\n"
     ]
    }
   ],
   "source": [
    "#verifying the 9 fold data\n",
    "print(train_org_X.shape)\n"
   ]
  },
  {
   "cell_type": "code",
   "execution_count": 31,
   "id": "50f1f25f",
   "metadata": {},
   "outputs": [],
   "source": [
    "import sklearn.cluster as cluster\n",
    "\n",
    "K=range(1,12)\n",
    "wss = []\n",
    "for k in K:\n",
    "    kmeans=cluster.KMeans(n_clusters=k,init=\"k-means++\")\n",
    "    kmeans=kmeans.fit(train_org_X)\n",
    "    wss_iter = kmeans.inertia_\n",
    "    wss.append(wss_iter)"
   ]
  },
  {
   "cell_type": "code",
   "execution_count": 32,
   "id": "f366b5d1",
   "metadata": {},
   "outputs": [
    {
     "data": {
      "text/html": [
       "<div>\n",
       "<style scoped>\n",
       "    .dataframe tbody tr th:only-of-type {\n",
       "        vertical-align: middle;\n",
       "    }\n",
       "\n",
       "    .dataframe tbody tr th {\n",
       "        vertical-align: top;\n",
       "    }\n",
       "\n",
       "    .dataframe thead th {\n",
       "        text-align: right;\n",
       "    }\n",
       "</style>\n",
       "<table border=\"1\" class=\"dataframe\">\n",
       "  <thead>\n",
       "    <tr style=\"text-align: right;\">\n",
       "      <th></th>\n",
       "      <th>Clusters</th>\n",
       "      <th>WSS</th>\n",
       "    </tr>\n",
       "  </thead>\n",
       "  <tbody>\n",
       "    <tr>\n",
       "      <th>0</th>\n",
       "      <td>1</td>\n",
       "      <td>11843.534837</td>\n",
       "    </tr>\n",
       "    <tr>\n",
       "      <th>1</th>\n",
       "      <td>2</td>\n",
       "      <td>7638.499222</td>\n",
       "    </tr>\n",
       "    <tr>\n",
       "      <th>2</th>\n",
       "      <td>3</td>\n",
       "      <td>6057.696939</td>\n",
       "    </tr>\n",
       "    <tr>\n",
       "      <th>3</th>\n",
       "      <td>4</td>\n",
       "      <td>4808.896801</td>\n",
       "    </tr>\n",
       "    <tr>\n",
       "      <th>4</th>\n",
       "      <td>5</td>\n",
       "      <td>4404.451736</td>\n",
       "    </tr>\n",
       "    <tr>\n",
       "      <th>5</th>\n",
       "      <td>6</td>\n",
       "      <td>4164.000982</td>\n",
       "    </tr>\n",
       "    <tr>\n",
       "      <th>6</th>\n",
       "      <td>7</td>\n",
       "      <td>3949.273107</td>\n",
       "    </tr>\n",
       "    <tr>\n",
       "      <th>7</th>\n",
       "      <td>8</td>\n",
       "      <td>3726.283476</td>\n",
       "    </tr>\n",
       "    <tr>\n",
       "      <th>8</th>\n",
       "      <td>9</td>\n",
       "      <td>3606.611890</td>\n",
       "    </tr>\n",
       "    <tr>\n",
       "      <th>9</th>\n",
       "      <td>10</td>\n",
       "      <td>3499.520893</td>\n",
       "    </tr>\n",
       "    <tr>\n",
       "      <th>10</th>\n",
       "      <td>11</td>\n",
       "      <td>3344.413934</td>\n",
       "    </tr>\n",
       "  </tbody>\n",
       "</table>\n",
       "</div>"
      ],
      "text/plain": [
       "    Clusters           WSS\n",
       "0          1  11843.534837\n",
       "1          2   7638.499222\n",
       "2          3   6057.696939\n",
       "3          4   4808.896801\n",
       "4          5   4404.451736\n",
       "5          6   4164.000982\n",
       "6          7   3949.273107\n",
       "7          8   3726.283476\n",
       "8          9   3606.611890\n",
       "9         10   3499.520893\n",
       "10        11   3344.413934"
      ]
     },
     "execution_count": 32,
     "metadata": {},
     "output_type": "execute_result"
    }
   ],
   "source": [
    "mycenters = pd.DataFrame({'Clusters' : K, 'WSS' : wss})\n",
    "mycenters"
   ]
  },
  {
   "cell_type": "code",
   "execution_count": 33,
   "id": "8001f604",
   "metadata": {},
   "outputs": [
    {
     "data": {
      "text/plain": [
       "<AxesSubplot:xlabel='Clusters', ylabel='WSS'>"
      ]
     },
     "execution_count": 33,
     "metadata": {},
     "output_type": "execute_result"
    },
    {
     "data": {
      "image/png": "[encoded data removed]",
      "text/plain": [
       "<Figure size 432x288 with 1 Axes>"
      ]
     },
     "metadata": {
      "needs_background": "light"
     },
     "output_type": "display_data"
    }
   ],
   "source": [
    "import seaborn as sns\n",
    "sns.scatterplot(x = 'Clusters', y = 'WSS', data = mycenters, marker=\"+\")"
   ]
  },
  {
   "cell_type": "markdown",
   "id": "bea3b107",
   "metadata": {},
   "source": [
    "### Silhouette method for original dataset"
   ]
  },
  {
   "cell_type": "code",
   "execution_count": 34,
   "id": "04a64a3b",
   "metadata": {},
   "outputs": [
    {
     "name": "stdout",
     "output_type": "stream",
     "text": [
      "Silhouette score for k(clusters) = 3 is 0.2948364572525943\n",
      "Silhouette score for k(clusters) = 4 is 0.29771664906617673\n",
      "Silhouette score for k(clusters) = 5 is 0.2640017557035005\n",
      "Silhouette score for k(clusters) = 6 is 0.2518854332411687\n",
      "Silhouette score for k(clusters) = 7 is 0.20622607571104684\n",
      "Silhouette score for k(clusters) = 8 is 0.19957095093629942\n",
      "Silhouette score for k(clusters) = 9 is 0.18833881882541997\n",
      "Silhouette score for k(clusters) = 10 is 0.19249496407274613\n",
      "Silhouette score for k(clusters) = 11 is 0.2085103392233736\n",
      "Silhouette score for k(clusters) = 12 is 0.19904195308864348\n"
     ]
    }
   ],
   "source": [
    "import sklearn.metrics as metrics\n",
    "for i in range(3,13):\n",
    "    labels=cluster.KMeans(n_clusters=i,init=\"k-means++\",random_state=200).fit(train_org_X).labels_\n",
    "    print (\"Silhouette score for k(clusters) = \"+str(i)+\" is \"\n",
    "           +str(metrics.silhouette_score(train_org_X, labels,metric=\"euclidean\",sample_size=1000,random_state=200)))"
   ]
  },
  {
   "cell_type": "markdown",
   "id": "bdde4c6e",
   "metadata": {},
   "source": [
    "From the above the elbow we identify that 4 cluster  and silhouette method we observe the max silhouette as k = 4 . so we can conclude that k =4 is right cluster "
   ]
  },
  {
   "cell_type": "markdown",
   "id": "02934c0a",
   "metadata": {},
   "source": [
    "### Elbow method for low imbalanced dataset"
   ]
  },
  {
   "cell_type": "code",
   "execution_count": 35,
   "id": "4e34eeaf",
   "metadata": {},
   "outputs": [],
   "source": [
    "#Elbow method for low_imbalance dataset\n",
    "\n",
    "import sklearn.cluster as cluster\n",
    "K=range(1,12)\n",
    "wss = []\n",
    "for k in K:\n",
    "    kmeans=cluster.KMeans(n_clusters=k,init=\"k-means++\")\n",
    "    kmeans=kmeans.fit(trainX)\n",
    "    wss_iter = kmeans.inertia_\n",
    "    wss.append(wss_iter)"
   ]
  },
  {
   "cell_type": "code",
   "execution_count": 36,
   "id": "ab3ffaad",
   "metadata": {},
   "outputs": [
    {
     "data": {
      "text/html": [
       "<div>\n",
       "<style scoped>\n",
       "    .dataframe tbody tr th:only-of-type {\n",
       "        vertical-align: middle;\n",
       "    }\n",
       "\n",
       "    .dataframe tbody tr th {\n",
       "        vertical-align: top;\n",
       "    }\n",
       "\n",
       "    .dataframe thead th {\n",
       "        text-align: right;\n",
       "    }\n",
       "</style>\n",
       "<table border=\"1\" class=\"dataframe\">\n",
       "  <thead>\n",
       "    <tr style=\"text-align: right;\">\n",
       "      <th></th>\n",
       "      <th>Clusters</th>\n",
       "      <th>WSS</th>\n",
       "    </tr>\n",
       "  </thead>\n",
       "  <tbody>\n",
       "    <tr>\n",
       "      <th>0</th>\n",
       "      <td>1</td>\n",
       "      <td>9307.304717</td>\n",
       "    </tr>\n",
       "    <tr>\n",
       "      <th>1</th>\n",
       "      <td>2</td>\n",
       "      <td>5781.815526</td>\n",
       "    </tr>\n",
       "    <tr>\n",
       "      <th>2</th>\n",
       "      <td>3</td>\n",
       "      <td>4503.045543</td>\n",
       "    </tr>\n",
       "    <tr>\n",
       "      <th>3</th>\n",
       "      <td>4</td>\n",
       "      <td>3826.021301</td>\n",
       "    </tr>\n",
       "    <tr>\n",
       "      <th>4</th>\n",
       "      <td>5</td>\n",
       "      <td>3427.354986</td>\n",
       "    </tr>\n",
       "    <tr>\n",
       "      <th>5</th>\n",
       "      <td>6</td>\n",
       "      <td>3188.678219</td>\n",
       "    </tr>\n",
       "    <tr>\n",
       "      <th>6</th>\n",
       "      <td>7</td>\n",
       "      <td>2999.575410</td>\n",
       "    </tr>\n",
       "    <tr>\n",
       "      <th>7</th>\n",
       "      <td>8</td>\n",
       "      <td>2857.170015</td>\n",
       "    </tr>\n",
       "    <tr>\n",
       "      <th>8</th>\n",
       "      <td>9</td>\n",
       "      <td>2712.776686</td>\n",
       "    </tr>\n",
       "    <tr>\n",
       "      <th>9</th>\n",
       "      <td>10</td>\n",
       "      <td>2624.334204</td>\n",
       "    </tr>\n",
       "    <tr>\n",
       "      <th>10</th>\n",
       "      <td>11</td>\n",
       "      <td>2560.449773</td>\n",
       "    </tr>\n",
       "  </tbody>\n",
       "</table>\n",
       "</div>"
      ],
      "text/plain": [
       "    Clusters          WSS\n",
       "0          1  9307.304717\n",
       "1          2  5781.815526\n",
       "2          3  4503.045543\n",
       "3          4  3826.021301\n",
       "4          5  3427.354986\n",
       "5          6  3188.678219\n",
       "6          7  2999.575410\n",
       "7          8  2857.170015\n",
       "8          9  2712.776686\n",
       "9         10  2624.334204\n",
       "10        11  2560.449773"
      ]
     },
     "execution_count": 36,
     "metadata": {},
     "output_type": "execute_result"
    }
   ],
   "source": [
    "mycenters = pd.DataFrame({'Clusters' : K, 'WSS' : wss})\n",
    "mycenters"
   ]
  },
  {
   "cell_type": "code",
   "execution_count": 37,
   "id": "49d2900d",
   "metadata": {},
   "outputs": [
    {
     "data": {
      "text/plain": [
       "<AxesSubplot:xlabel='Clusters', ylabel='WSS'>"
      ]
     },
     "execution_count": 37,
     "metadata": {},
     "output_type": "execute_result"
    },
    {
     "data": {
      "image/png": "[encoded data removed]",
      "text/plain": [
       "<Figure size 432x288 with 1 Axes>"
      ]
     },
     "metadata": {
      "needs_background": "light"
     },
     "output_type": "display_data"
    }
   ],
   "source": [
    "import seaborn as sns\n",
    "sns.scatterplot(x = 'Clusters', y = 'WSS', data = mycenters, marker=\"+\")"
   ]
  },
  {
   "cell_type": "markdown",
   "id": "015d878b",
   "metadata": {},
   "source": [
    "### Silhouette method for low lmbalance dataset"
   ]
  },
  {
   "cell_type": "code",
   "execution_count": 38,
   "id": "cd2607a0",
   "metadata": {},
   "outputs": [
    {
     "name": "stdout",
     "output_type": "stream",
     "text": [
      "Silhouette score for k(clusters) = 3 is 0.32187202844310925\n",
      "Silhouette score for k(clusters) = 4 is 0.3070018628745684\n",
      "Silhouette score for k(clusters) = 5 is 0.2636861330218866\n",
      "Silhouette score for k(clusters) = 6 is 0.25701723156342293\n",
      "Silhouette score for k(clusters) = 7 is 0.24439282678438382\n",
      "Silhouette score for k(clusters) = 8 is 0.23902716685356362\n",
      "Silhouette score for k(clusters) = 9 is 0.23610309165299623\n",
      "Silhouette score for k(clusters) = 10 is 0.1979099579624805\n",
      "Silhouette score for k(clusters) = 11 is 0.20489374724502\n",
      "Silhouette score for k(clusters) = 12 is 0.20783547144290343\n"
     ]
    }
   ],
   "source": [
    "import sklearn.metrics as metrics\n",
    "for i in range(3,13):\n",
    "    labels=cluster.KMeans(n_clusters=i,init=\"k-means++\",random_state=200).fit(trainX).labels_\n",
    "    print (\"Silhouette score for k(clusters) = \"+str(i)+\" is \"\n",
    "           +str(metrics.silhouette_score(trainX, labels,metric=\"euclidean\",sample_size=1000,random_state=200)))"
   ]
  },
  {
   "cell_type": "markdown",
   "id": "30c922a1",
   "metadata": {},
   "source": [
    "From the above the elbow we identify that 4 cluster  and silhouette method we observe the max silhouette as k = 4 . so we can conclude that k =4 is right cluster "
   ]
  },
  {
   "cell_type": "markdown",
   "id": "40aaaa97",
   "metadata": {},
   "source": [
    "### Elbow method for medium imbalanced dataset"
   ]
  },
  {
   "cell_type": "code",
   "execution_count": 39,
   "id": "84265e70",
   "metadata": {},
   "outputs": [],
   "source": [
    "#Elbow method for meduim dataset\n",
    "\n",
    "import sklearn.cluster as cluster\n",
    "K=range(1,12)\n",
    "wss = []\n",
    "for k in K:\n",
    "    kmeans=cluster.KMeans(n_clusters=k,init=\"k-means++\")\n",
    "    kmeans=kmeans.fit(trainA)\n",
    "    wss_iter = kmeans.inertia_\n",
    "    wss.append(wss_iter)"
   ]
  },
  {
   "cell_type": "code",
   "execution_count": 40,
   "id": "01f36988",
   "metadata": {},
   "outputs": [
    {
     "data": {
      "text/html": [
       "<div>\n",
       "<style scoped>\n",
       "    .dataframe tbody tr th:only-of-type {\n",
       "        vertical-align: middle;\n",
       "    }\n",
       "\n",
       "    .dataframe tbody tr th {\n",
       "        vertical-align: top;\n",
       "    }\n",
       "\n",
       "    .dataframe thead th {\n",
       "        text-align: right;\n",
       "    }\n",
       "</style>\n",
       "<table border=\"1\" class=\"dataframe\">\n",
       "  <thead>\n",
       "    <tr style=\"text-align: right;\">\n",
       "      <th></th>\n",
       "      <th>Clusters</th>\n",
       "      <th>WSS</th>\n",
       "    </tr>\n",
       "  </thead>\n",
       "  <tbody>\n",
       "    <tr>\n",
       "      <th>0</th>\n",
       "      <td>1</td>\n",
       "      <td>7908.740040</td>\n",
       "    </tr>\n",
       "    <tr>\n",
       "      <th>1</th>\n",
       "      <td>2</td>\n",
       "      <td>5088.630338</td>\n",
       "    </tr>\n",
       "    <tr>\n",
       "      <th>2</th>\n",
       "      <td>3</td>\n",
       "      <td>4028.748644</td>\n",
       "    </tr>\n",
       "    <tr>\n",
       "      <th>3</th>\n",
       "      <td>4</td>\n",
       "      <td>3199.863618</td>\n",
       "    </tr>\n",
       "    <tr>\n",
       "      <th>4</th>\n",
       "      <td>5</td>\n",
       "      <td>2922.693732</td>\n",
       "    </tr>\n",
       "    <tr>\n",
       "      <th>5</th>\n",
       "      <td>6</td>\n",
       "      <td>2753.121733</td>\n",
       "    </tr>\n",
       "    <tr>\n",
       "      <th>6</th>\n",
       "      <td>7</td>\n",
       "      <td>2604.329866</td>\n",
       "    </tr>\n",
       "    <tr>\n",
       "      <th>7</th>\n",
       "      <td>8</td>\n",
       "      <td>2475.509000</td>\n",
       "    </tr>\n",
       "    <tr>\n",
       "      <th>8</th>\n",
       "      <td>9</td>\n",
       "      <td>2378.321624</td>\n",
       "    </tr>\n",
       "    <tr>\n",
       "      <th>9</th>\n",
       "      <td>10</td>\n",
       "      <td>2313.783193</td>\n",
       "    </tr>\n",
       "    <tr>\n",
       "      <th>10</th>\n",
       "      <td>11</td>\n",
       "      <td>2204.335143</td>\n",
       "    </tr>\n",
       "  </tbody>\n",
       "</table>\n",
       "</div>"
      ],
      "text/plain": [
       "    Clusters          WSS\n",
       "0          1  7908.740040\n",
       "1          2  5088.630338\n",
       "2          3  4028.748644\n",
       "3          4  3199.863618\n",
       "4          5  2922.693732\n",
       "5          6  2753.121733\n",
       "6          7  2604.329866\n",
       "7          8  2475.509000\n",
       "8          9  2378.321624\n",
       "9         10  2313.783193\n",
       "10        11  2204.335143"
      ]
     },
     "execution_count": 40,
     "metadata": {},
     "output_type": "execute_result"
    }
   ],
   "source": [
    "mycenters = pd.DataFrame({'Clusters' : K, 'WSS' : wss})\n",
    "mycenters"
   ]
  },
  {
   "cell_type": "code",
   "execution_count": 41,
   "id": "16d5c2fe",
   "metadata": {},
   "outputs": [
    {
     "data": {
      "text/plain": [
       "<AxesSubplot:xlabel='Clusters', ylabel='WSS'>"
      ]
     },
     "execution_count": 41,
     "metadata": {},
     "output_type": "execute_result"
    },
    {
     "data": {
      "image/png": "[encoded data removed]",
      "text/plain": [
       "<Figure size 432x288 with 1 Axes>"
      ]
     },
     "metadata": {
      "needs_background": "light"
     },
     "output_type": "display_data"
    }
   ],
   "source": [
    "import seaborn as sns\n",
    "sns.scatterplot(x = 'Clusters', y = 'WSS', data = mycenters, marker=\"+\")"
   ]
  },
  {
   "cell_type": "markdown",
   "id": "9f5a7707",
   "metadata": {},
   "source": [
    "### Silhouette method for medium imbalance dataset"
   ]
  },
  {
   "cell_type": "code",
   "execution_count": 42,
   "id": "a8a4943e",
   "metadata": {},
   "outputs": [
    {
     "name": "stdout",
     "output_type": "stream",
     "text": [
      "Silhouette score for k(clusters) = 3 is 0.29166203259475476\n",
      "Silhouette score for k(clusters) = 4 is 0.310074937897881\n",
      "Silhouette score for k(clusters) = 5 is 0.27348720157939227\n",
      "Silhouette score for k(clusters) = 6 is 0.26334019613509546\n",
      "Silhouette score for k(clusters) = 7 is 0.21209762112185804\n",
      "Silhouette score for k(clusters) = 8 is 0.20893931395786708\n",
      "Silhouette score for k(clusters) = 9 is 0.21226740272115216\n",
      "Silhouette score for k(clusters) = 10 is 0.20973493810403937\n",
      "Silhouette score for k(clusters) = 11 is 0.1937551129502189\n",
      "Silhouette score for k(clusters) = 12 is 0.19954524832620643\n"
     ]
    }
   ],
   "source": [
    "import sklearn.metrics as metrics\n",
    "for i in range(3,13):\n",
    "    labels=cluster.KMeans(n_clusters=i,init=\"k-means++\",random_state=200).fit(trainA).labels_\n",
    "    print (\"Silhouette score for k(clusters) = \"+str(i)+\" is \"\n",
    "           +str(metrics.silhouette_score(trainA, labels,metric=\"euclidean\",sample_size=1000,random_state=200)))"
   ]
  },
  {
   "cell_type": "markdown",
   "id": "1e33f9b7",
   "metadata": {},
   "source": [
    "From the above the elbow we identify that 4 cluster  and silhouette method we observe the max silhouette as k = 4 . so we can conclude that k =4 is right cluster "
   ]
  },
  {
   "cell_type": "markdown",
   "id": "0476c46d",
   "metadata": {},
   "source": [
    "### Elbow method for high imbalanced dataset"
   ]
  },
  {
   "cell_type": "code",
   "execution_count": 43,
   "id": "836f06f2",
   "metadata": {},
   "outputs": [],
   "source": [
    "#Elbow method for high imbalace dataset\n",
    "\n",
    "import sklearn.cluster as cluster\n",
    "K=range(1,12)\n",
    "wss = [] # within cluster sum of squares\n",
    "for k in K:\n",
    "    kmeans=cluster.KMeans(n_clusters=k,init=\"k-means++\")\n",
    "    kmeans=kmeans.fit(trainC)\n",
    "    wss_iter = kmeans.inertia_\n",
    "    wss.append(wss_iter)"
   ]
  },
  {
   "cell_type": "code",
   "execution_count": 44,
   "id": "c2b36749",
   "metadata": {},
   "outputs": [
    {
     "data": {
      "text/html": [
       "<div>\n",
       "<style scoped>\n",
       "    .dataframe tbody tr th:only-of-type {\n",
       "        vertical-align: middle;\n",
       "    }\n",
       "\n",
       "    .dataframe tbody tr th {\n",
       "        vertical-align: top;\n",
       "    }\n",
       "\n",
       "    .dataframe thead th {\n",
       "        text-align: right;\n",
       "    }\n",
       "</style>\n",
       "<table border=\"1\" class=\"dataframe\">\n",
       "  <thead>\n",
       "    <tr style=\"text-align: right;\">\n",
       "      <th></th>\n",
       "      <th>Clusters</th>\n",
       "      <th>WSS</th>\n",
       "    </tr>\n",
       "  </thead>\n",
       "  <tbody>\n",
       "    <tr>\n",
       "      <th>0</th>\n",
       "      <td>1</td>\n",
       "      <td>6563.595050</td>\n",
       "    </tr>\n",
       "    <tr>\n",
       "      <th>1</th>\n",
       "      <td>2</td>\n",
       "      <td>4232.067321</td>\n",
       "    </tr>\n",
       "    <tr>\n",
       "      <th>2</th>\n",
       "      <td>3</td>\n",
       "      <td>3334.544506</td>\n",
       "    </tr>\n",
       "    <tr>\n",
       "      <th>3</th>\n",
       "      <td>4</td>\n",
       "      <td>2649.955481</td>\n",
       "    </tr>\n",
       "    <tr>\n",
       "      <th>4</th>\n",
       "      <td>5</td>\n",
       "      <td>2424.883224</td>\n",
       "    </tr>\n",
       "    <tr>\n",
       "      <th>5</th>\n",
       "      <td>6</td>\n",
       "      <td>2290.165054</td>\n",
       "    </tr>\n",
       "    <tr>\n",
       "      <th>6</th>\n",
       "      <td>7</td>\n",
       "      <td>2165.847124</td>\n",
       "    </tr>\n",
       "    <tr>\n",
       "      <th>7</th>\n",
       "      <td>8</td>\n",
       "      <td>2052.615668</td>\n",
       "    </tr>\n",
       "    <tr>\n",
       "      <th>8</th>\n",
       "      <td>9</td>\n",
       "      <td>1970.268468</td>\n",
       "    </tr>\n",
       "    <tr>\n",
       "      <th>9</th>\n",
       "      <td>10</td>\n",
       "      <td>1916.552826</td>\n",
       "    </tr>\n",
       "    <tr>\n",
       "      <th>10</th>\n",
       "      <td>11</td>\n",
       "      <td>1835.895787</td>\n",
       "    </tr>\n",
       "  </tbody>\n",
       "</table>\n",
       "</div>"
      ],
      "text/plain": [
       "    Clusters          WSS\n",
       "0          1  6563.595050\n",
       "1          2  4232.067321\n",
       "2          3  3334.544506\n",
       "3          4  2649.955481\n",
       "4          5  2424.883224\n",
       "5          6  2290.165054\n",
       "6          7  2165.847124\n",
       "7          8  2052.615668\n",
       "8          9  1970.268468\n",
       "9         10  1916.552826\n",
       "10        11  1835.895787"
      ]
     },
     "execution_count": 44,
     "metadata": {},
     "output_type": "execute_result"
    }
   ],
   "source": [
    "mycenters = pd.DataFrame({'Clusters' : K, 'WSS' : wss})\n",
    "mycenters"
   ]
  },
  {
   "cell_type": "code",
   "execution_count": 45,
   "id": "d9d06e62",
   "metadata": {},
   "outputs": [
    {
     "data": {
      "text/plain": [
       "<AxesSubplot:xlabel='Clusters', ylabel='WSS'>"
      ]
     },
     "execution_count": 45,
     "metadata": {},
     "output_type": "execute_result"
    },
    {
     "data": {
      "image/png": "[encoded data removed]",
      "text/plain": [
       "<Figure size 432x288 with 1 Axes>"
      ]
     },
     "metadata": {
      "needs_background": "light"
     },
     "output_type": "display_data"
    }
   ],
   "source": [
    "import seaborn as sns\n",
    "sns.scatterplot(x = 'Clusters', y = 'WSS', data = mycenters, marker=\"+\")"
   ]
  },
  {
   "cell_type": "markdown",
   "id": "2c50aa9c",
   "metadata": {},
   "source": [
    "### Silhouette method for high imbalance dataset"
   ]
  },
  {
   "cell_type": "code",
   "execution_count": 46,
   "id": "5e31ceef",
   "metadata": {},
   "outputs": [
    {
     "name": "stdout",
     "output_type": "stream",
     "text": [
      "Silhouette score for k(clusters) = 3 is 0.29166203259475476\n",
      "Silhouette score for k(clusters) = 4 is 0.310074937897881\n",
      "Silhouette score for k(clusters) = 5 is 0.27348720157939227\n",
      "Silhouette score for k(clusters) = 6 is 0.26334019613509546\n",
      "Silhouette score for k(clusters) = 7 is 0.21209762112185804\n",
      "Silhouette score for k(clusters) = 8 is 0.20893931395786708\n",
      "Silhouette score for k(clusters) = 9 is 0.21226740272115216\n",
      "Silhouette score for k(clusters) = 10 is 0.20973493810403937\n",
      "Silhouette score for k(clusters) = 11 is 0.1937551129502189\n",
      "Silhouette score for k(clusters) = 12 is 0.19954524832620643\n"
     ]
    }
   ],
   "source": [
    "import sklearn.metrics as metrics\n",
    "for i in range(3,13):\n",
    "    labels=cluster.KMeans(n_clusters=i,init=\"k-means++\",random_state=200).fit(trainA).labels_\n",
    "    print (\"Silhouette score for k(clusters) = \"+str(i)+\" is \"\n",
    "           +str(metrics.silhouette_score(trainA, labels,metric=\"euclidean\",sample_size=1000,random_state=200)))"
   ]
  },
  {
   "cell_type": "markdown",
   "id": "3c7806e8",
   "metadata": {},
   "source": [
    "From the above the elbow we identify that 4 cluster  and silhouette method we observe the max silhouette as k = 4 . so we can conclude that k =4 is right cluster "
   ]
  },
  {
   "cell_type": "markdown",
   "id": "69137072",
   "metadata": {},
   "source": [
    "### Running the kmean in the dataset with our identified cluster i.e k = 4"
   ]
  },
  {
   "cell_type": "code",
   "execution_count": 116,
   "id": "1be4954f",
   "metadata": {},
   "outputs": [],
   "source": [
    "from sklearn.cluster import KMeans\n",
    "kmeans = KMeans(n_clusters=4, init= 'k-means++', random_state=0)\n",
    "k_mean_org=   kmeans.fit(train_org_X)\n",
    "k_mean_low =  kmeans.fit(trainX)\n",
    "k_mean_mid =  kmeans.fit(trainA)\n",
    "k_mean_high = kmeans.fit(trainC)\n",
    "\n",
    "\n",
    "\n",
    "\n",
    "# centroid_labels = [centroids[i] for i in k_mean_org]\n",
    "# print(k_mean_org, k_mean_low, k_mean_mid, k_mean_high)\n",
    "\n"
   ]
  },
  {
   "cell_type": "code",
   "execution_count": 123,
   "id": "4be4a42a",
   "metadata": {},
   "outputs": [],
   "source": [
    "kmeans = KMeans(n_clusters=4, random_state=0).fit(train_org_X)\n"
   ]
  },
  {
   "cell_type": "code",
   "execution_count": 126,
   "id": "5e30991d",
   "metadata": {},
   "outputs": [
    {
     "data": {
      "text/plain": [
       "array([3, 0, 3, ..., 0, 0, 1])"
      ]
     },
     "execution_count": 126,
     "metadata": {},
     "output_type": "execute_result"
    }
   ],
   "source": [
    "kmeans.labels_"
   ]
  },
  {
   "cell_type": "code",
   "execution_count": 138,
   "id": "4270e022",
   "metadata": {},
   "outputs": [
    {
     "data": {
      "text/plain": [
       "0       0\n",
       "1       0\n",
       "2       0\n",
       "3       0\n",
       "4       0\n",
       "       ..\n",
       "4496    0\n",
       "4497    0\n",
       "4498    0\n",
       "4499    0\n",
       "4500    0\n",
       "Length: 4501, dtype: int64"
      ]
     },
     "execution_count": 138,
     "metadata": {},
     "output_type": "execute_result"
    }
   ],
   "source": [
    "import numpy as np\n",
    "df1 = pd.DataFrame(kmeans.labels_) \n",
    "df1.isnull().sum(axis=1)"
   ]
  },
  {
   "cell_type": "code",
   "execution_count": 55,
   "id": "4a56eb11",
   "metadata": {},
   "outputs": [],
   "source": [
    "\n",
    "# c=k_mean_mid.predict(testA)\n",
    "# print(confusion_matrix(testB,c))\n",
    "# print(accuracy_score(testB,c))\n",
    "# print(classification_report(testB,c))\n",
    "\n",
    "# d=k_mean_org.predict(testC)\n",
    "# print(confusion_matrix(testD,d))\n",
    "# print(accuracy_score(testD,d))\n",
    "# print(classification_report(testD,d))\n"
   ]
  },
  {
   "cell_type": "code",
   "execution_count": 50,
   "id": "8bb6118d",
   "metadata": {},
   "outputs": [
    {
     "data": {
      "image/png": "[encoded data removed]",
      "text/plain": [
       "<Figure size 720x504 with 1 Axes>"
      ]
     },
     "metadata": {
      "needs_background": "light"
     },
     "output_type": "display_data"
    }
   ],
   "source": [
    "import scipy.cluster.hierarchy as shc\n",
    "from matplotlib import pyplot\n",
    "pyplot.figure(figsize=(10, 7))  \n",
    "pyplot.title(\"Dendrograms\")  \n",
    "dend = shc.dendrogram(shc.linkage(train_org_X, method='ward'))"
   ]
  },
  {
   "cell_type": "code",
   "execution_count": 51,
   "id": "aa5b4e78",
   "metadata": {},
   "outputs": [
    {
     "data": {
      "image/png": "[encoded data removed]",
      "text/plain": [
       "<Figure size 432x288 with 1 Axes>"
      ]
     },
     "metadata": {
      "needs_background": "light"
     },
     "output_type": "display_data"
    }
   ],
   "source": [
    "plt.plot(train_org_X)\n",
    "plt.plot(trainX)\n",
    "plt.plot(trainA)\n",
    "plt.plot(trainC)\n",
    "plt.show()"
   ]
  },
  {
   "cell_type": "markdown",
   "id": "f9e9f98d",
   "metadata": {},
   "source": [
    "### Identifying the centriod"
   ]
  },
  {
   "cell_type": "code",
   "execution_count": 53,
   "id": "6cd714ba",
   "metadata": {},
   "outputs": [
    {
     "data": {
      "image/png": "[encoded data removed]",
      "text/plain": [
       "<Figure size 432x288 with 1 Axes>"
      ]
     },
     "metadata": {
      "needs_background": "light"
     },
     "output_type": "display_data"
    }
   ],
   "source": [
    "plt.plot(centroids)\n",
    "plt.show()"
   ]
  },
  {
   "cell_type": "code",
   "execution_count": 113,
   "id": "6a8d3401",
   "metadata": {},
   "outputs": [
    {
     "name": "stdout",
     "output_type": "stream",
     "text": [
      "[2.7420270102837314, 2.9706068268015167, 3.580822090530828, 3.2861092824226463]\n",
      "[[ 0.86470078 12.05299219  5.7934085   0.11535126  0.13443192  0.11361665\n",
      "   0.11968777]\n",
      " [ 0.87610619 13.59283186  5.79079646  0.12743363  0.14513274  0.13893805\n",
      "   0.12300885]\n",
      " [ 0.85789938 14.57202118  6.0956752   0.88084731  0.88526037  0.88614298\n",
      "   0.88790821]\n",
      " [ 0.86635945 12.50036866  6.11437788  0.88571429  0.88387097  0.86635945\n",
      "   0.88571429]]\n"
     ]
    }
   ],
   "source": [
    "from sklearn.cluster import KMeans\n",
    "\n",
    "# Number of clusters\n",
    "kmeans = KMeans(n_clusters=4)\n",
    "# Fitting the input data\n",
    "kmeans = kmeans.fit(train_org_X)\n",
    "# Getting the cluster labels\n",
    "labels = kmeans.predict(train_org_X)\n",
    "# Centroid values\n",
    "centroids = [np.mean(kmeans.cluster_centers_[i]) for i in range(len(centroids))]\n",
    "print(centroids)\n",
    "min(centroids)\n",
    "print(kmeans.cluster_centers_)"
   ]
  },
  {
   "cell_type": "code",
   "execution_count": 147,
   "id": "08eb3e1a",
   "metadata": {},
   "outputs": [
    {
     "data": {
      "text/plain": [
       "0       0\n",
       "1       0\n",
       "2       0\n",
       "3       0\n",
       "4       0\n",
       "       ..\n",
       "4498    0\n",
       "4500    0\n",
       "4503    0\n",
       "4504    0\n",
       "4505    0\n",
       "Length: 4501, dtype: int64"
      ]
     },
     "execution_count": 147,
     "metadata": {},
     "output_type": "execute_result"
    }
   ],
   "source": [
    "combine = pd.concat([train_org_X, train_org_Y], axis=1)\n",
    "combine.isnull().sum(axis=1)"
   ]
  },
  {
   "cell_type": "code",
   "execution_count": 163,
   "id": "d88dfe5e",
   "metadata": {},
   "outputs": [
    {
     "data": {
      "text/html": [
       "<div>\n",
       "<style scoped>\n",
       "    .dataframe tbody tr th:only-of-type {\n",
       "        vertical-align: middle;\n",
       "    }\n",
       "\n",
       "    .dataframe tbody tr th {\n",
       "        vertical-align: top;\n",
       "    }\n",
       "\n",
       "    .dataframe thead th {\n",
       "        text-align: right;\n",
       "    }\n",
       "</style>\n",
       "<table border=\"1\" class=\"dataframe\">\n",
       "  <thead>\n",
       "    <tr style=\"text-align: right;\">\n",
       "      <th></th>\n",
       "      <th>long_hair</th>\n",
       "      <th>forehead_width_cm</th>\n",
       "      <th>forehead_height_cm</th>\n",
       "      <th>nose_wide</th>\n",
       "      <th>nose_long</th>\n",
       "      <th>lips_thin</th>\n",
       "      <th>distance_nose_to_lip_long</th>\n",
       "      <th>gender</th>\n",
       "      <th>0</th>\n",
       "    </tr>\n",
       "  </thead>\n",
       "  <tbody>\n",
       "    <tr>\n",
       "      <th>0</th>\n",
       "      <td>1.0</td>\n",
       "      <td>11.8</td>\n",
       "      <td>6.1</td>\n",
       "      <td>1.0</td>\n",
       "      <td>0.0</td>\n",
       "      <td>1.0</td>\n",
       "      <td>1.0</td>\n",
       "      <td>1.0</td>\n",
       "      <td>3.0</td>\n",
       "    </tr>\n",
       "    <tr>\n",
       "      <th>1</th>\n",
       "      <td>0.0</td>\n",
       "      <td>14.0</td>\n",
       "      <td>5.4</td>\n",
       "      <td>0.0</td>\n",
       "      <td>0.0</td>\n",
       "      <td>1.0</td>\n",
       "      <td>0.0</td>\n",
       "      <td>0.0</td>\n",
       "      <td>0.0</td>\n",
       "    </tr>\n",
       "    <tr>\n",
       "      <th>2</th>\n",
       "      <td>0.0</td>\n",
       "      <td>11.8</td>\n",
       "      <td>6.3</td>\n",
       "      <td>1.0</td>\n",
       "      <td>1.0</td>\n",
       "      <td>1.0</td>\n",
       "      <td>1.0</td>\n",
       "      <td>1.0</td>\n",
       "      <td>3.0</td>\n",
       "    </tr>\n",
       "    <tr>\n",
       "      <th>3</th>\n",
       "      <td>0.0</td>\n",
       "      <td>14.4</td>\n",
       "      <td>6.1</td>\n",
       "      <td>0.0</td>\n",
       "      <td>1.0</td>\n",
       "      <td>1.0</td>\n",
       "      <td>1.0</td>\n",
       "      <td>1.0</td>\n",
       "      <td>2.0</td>\n",
       "    </tr>\n",
       "    <tr>\n",
       "      <th>4</th>\n",
       "      <td>1.0</td>\n",
       "      <td>13.5</td>\n",
       "      <td>5.9</td>\n",
       "      <td>0.0</td>\n",
       "      <td>0.0</td>\n",
       "      <td>0.0</td>\n",
       "      <td>0.0</td>\n",
       "      <td>0.0</td>\n",
       "      <td>0.0</td>\n",
       "    </tr>\n",
       "    <tr>\n",
       "      <th>...</th>\n",
       "      <td>...</td>\n",
       "      <td>...</td>\n",
       "      <td>...</td>\n",
       "      <td>...</td>\n",
       "      <td>...</td>\n",
       "      <td>...</td>\n",
       "      <td>...</td>\n",
       "      <td>...</td>\n",
       "      <td>...</td>\n",
       "    </tr>\n",
       "    <tr>\n",
       "      <th>4499</th>\n",
       "      <td>NaN</td>\n",
       "      <td>NaN</td>\n",
       "      <td>NaN</td>\n",
       "      <td>NaN</td>\n",
       "      <td>NaN</td>\n",
       "      <td>NaN</td>\n",
       "      <td>NaN</td>\n",
       "      <td>NaN</td>\n",
       "      <td>0.0</td>\n",
       "    </tr>\n",
       "    <tr>\n",
       "      <th>4500</th>\n",
       "      <td>1.0</td>\n",
       "      <td>12.0</td>\n",
       "      <td>6.2</td>\n",
       "      <td>0.0</td>\n",
       "      <td>0.0</td>\n",
       "      <td>0.0</td>\n",
       "      <td>0.0</td>\n",
       "      <td>0.0</td>\n",
       "      <td>1.0</td>\n",
       "    </tr>\n",
       "    <tr>\n",
       "      <th>4503</th>\n",
       "      <td>1.0</td>\n",
       "      <td>13.3</td>\n",
       "      <td>5.4</td>\n",
       "      <td>0.0</td>\n",
       "      <td>1.0</td>\n",
       "      <td>1.0</td>\n",
       "      <td>0.0</td>\n",
       "      <td>0.0</td>\n",
       "      <td>NaN</td>\n",
       "    </tr>\n",
       "    <tr>\n",
       "      <th>4504</th>\n",
       "      <td>0.0</td>\n",
       "      <td>13.5</td>\n",
       "      <td>5.9</td>\n",
       "      <td>0.0</td>\n",
       "      <td>0.0</td>\n",
       "      <td>0.0</td>\n",
       "      <td>0.0</td>\n",
       "      <td>0.0</td>\n",
       "      <td>NaN</td>\n",
       "    </tr>\n",
       "    <tr>\n",
       "      <th>4505</th>\n",
       "      <td>1.0</td>\n",
       "      <td>12.0</td>\n",
       "      <td>6.0</td>\n",
       "      <td>0.0</td>\n",
       "      <td>0.0</td>\n",
       "      <td>0.0</td>\n",
       "      <td>0.0</td>\n",
       "      <td>0.0</td>\n",
       "      <td>NaN</td>\n",
       "    </tr>\n",
       "  </tbody>\n",
       "</table>\n",
       "<p>4504 rows × 9 columns</p>\n",
       "</div>"
      ],
      "text/plain": [
       "      long_hair  forehead_width_cm  forehead_height_cm  nose_wide  nose_long  \\\n",
       "0           1.0               11.8                 6.1        1.0        0.0   \n",
       "1           0.0               14.0                 5.4        0.0        0.0   \n",
       "2           0.0               11.8                 6.3        1.0        1.0   \n",
       "3           0.0               14.4                 6.1        0.0        1.0   \n",
       "4           1.0               13.5                 5.9        0.0        0.0   \n",
       "...         ...                ...                 ...        ...        ...   \n",
       "4499        NaN                NaN                 NaN        NaN        NaN   \n",
       "4500        1.0               12.0                 6.2        0.0        0.0   \n",
       "4503        1.0               13.3                 5.4        0.0        1.0   \n",
       "4504        0.0               13.5                 5.9        0.0        0.0   \n",
       "4505        1.0               12.0                 6.0        0.0        0.0   \n",
       "\n",
       "      lips_thin  distance_nose_to_lip_long  gender    0  \n",
       "0           1.0                        1.0     1.0  3.0  \n",
       "1           1.0                        0.0     0.0  0.0  \n",
       "2           1.0                        1.0     1.0  3.0  \n",
       "3           1.0                        1.0     1.0  2.0  \n",
       "4           0.0                        0.0     0.0  0.0  \n",
       "...         ...                        ...     ...  ...  \n",
       "4499        NaN                        NaN     NaN  0.0  \n",
       "4500        0.0                        0.0     0.0  1.0  \n",
       "4503        1.0                        0.0     0.0  NaN  \n",
       "4504        0.0                        0.0     0.0  NaN  \n",
       "4505        0.0                        0.0     0.0  NaN  \n",
       "\n",
       "[4504 rows x 9 columns]"
      ]
     },
     "execution_count": 163,
     "metadata": {},
     "output_type": "execute_result"
    }
   ],
   "source": [
    "df2 = pd.concat([combine, df1],  axis=1)\n",
    "#df2.columns = df.columns.str.replace('0', 'new_char')\n",
    "df2"
   ]
  },
  {
   "cell_type": "code",
   "execution_count": 159,
   "id": "79685e43",
   "metadata": {},
   "outputs": [],
   "source": [
    "#f1.head(20)"
   ]
  },
  {
   "cell_type": "code",
   "execution_count": 154,
   "id": "8a630661",
   "metadata": {},
   "outputs": [
    {
     "data": {
      "text/plain": [
       "long_hair                    3\n",
       "forehead_width_cm            3\n",
       "forehead_height_cm           3\n",
       "nose_wide                    3\n",
       "nose_long                    3\n",
       "lips_thin                    3\n",
       "distance_nose_to_lip_long    3\n",
       "gender                       3\n",
       "0                            3\n",
       "dtype: int64"
      ]
     },
     "execution_count": 154,
     "metadata": {},
     "output_type": "execute_result"
    }
   ],
   "source": [
    "df2.isnull().sum(axis=0)"
   ]
  },
  {
   "cell_type": "code",
   "execution_count": 167,
   "id": "3b518098",
   "metadata": {},
   "outputs": [
    {
     "ename": "ValueError",
     "evalue": "The truth value of a Series is ambiguous. Use a.empty, a.bool(), a.item(), a.any() or a.all().",
     "output_type": "error",
     "traceback": [
      "\u001b[1;31m---------------------------------------------------------------------------\u001b[0m",
      "\u001b[1;31mValueError\u001b[0m                                Traceback (most recent call last)",
      "\u001b[1;32m~\\AppData\\Local\\Temp/ipykernel_15936/3228725485.py\u001b[0m in \u001b[0;36m<module>\u001b[1;34m\u001b[0m\n\u001b[0;32m      3\u001b[0m \u001b[0ma\u001b[0m \u001b[1;33m=\u001b[0m \u001b[1;33m[\u001b[0m\u001b[1;33m]\u001b[0m\u001b[1;33m\u001b[0m\u001b[1;33m\u001b[0m\u001b[0m\n\u001b[0;32m      4\u001b[0m \u001b[1;32mfor\u001b[0m \u001b[0mi\u001b[0m \u001b[1;32min\u001b[0m \u001b[0mrange\u001b[0m\u001b[1;33m(\u001b[0m\u001b[0mlen\u001b[0m\u001b[1;33m(\u001b[0m\u001b[0mdf2\u001b[0m\u001b[1;33m)\u001b[0m\u001b[1;33m)\u001b[0m\u001b[1;33m:\u001b[0m\u001b[1;33m\u001b[0m\u001b[1;33m\u001b[0m\u001b[0m\n\u001b[1;32m----> 5\u001b[1;33m     \u001b[1;32mif\u001b[0m \u001b[0mdf2\u001b[0m\u001b[1;33m[\u001b[0m\u001b[1;36m0\u001b[0m\u001b[1;33m]\u001b[0m \u001b[1;33m==\u001b[0m \u001b[1;34m\"0\"\u001b[0m\u001b[1;33m:\u001b[0m\u001b[1;33m\u001b[0m\u001b[1;33m\u001b[0m\u001b[0m\n\u001b[0m\u001b[0;32m      6\u001b[0m         \u001b[0ma\u001b[0m\u001b[1;33m.\u001b[0m\u001b[0mappend\u001b[0m\u001b[1;33m(\u001b[0m\u001b[1;34m'zero'\u001b[0m\u001b[1;33m)\u001b[0m\u001b[1;33m\u001b[0m\u001b[1;33m\u001b[0m\u001b[0m\n\u001b[0;32m      7\u001b[0m \u001b[1;33m\u001b[0m\u001b[0m\n",
      "\u001b[1;32m~\\anaconda3\\lib\\site-packages\\pandas\\core\\generic.py\u001b[0m in \u001b[0;36m__nonzero__\u001b[1;34m(self)\u001b[0m\n\u001b[0;32m   1535\u001b[0m     \u001b[1;33m@\u001b[0m\u001b[0mfinal\u001b[0m\u001b[1;33m\u001b[0m\u001b[1;33m\u001b[0m\u001b[0m\n\u001b[0;32m   1536\u001b[0m     \u001b[1;32mdef\u001b[0m \u001b[0m__nonzero__\u001b[0m\u001b[1;33m(\u001b[0m\u001b[0mself\u001b[0m\u001b[1;33m)\u001b[0m\u001b[1;33m:\u001b[0m\u001b[1;33m\u001b[0m\u001b[1;33m\u001b[0m\u001b[0m\n\u001b[1;32m-> 1537\u001b[1;33m         raise ValueError(\n\u001b[0m\u001b[0;32m   1538\u001b[0m             \u001b[1;34mf\"The truth value of a {type(self).__name__} is ambiguous. \"\u001b[0m\u001b[1;33m\u001b[0m\u001b[1;33m\u001b[0m\u001b[0m\n\u001b[0;32m   1539\u001b[0m             \u001b[1;34m\"Use a.empty, a.bool(), a.item(), a.any() or a.all().\"\u001b[0m\u001b[1;33m\u001b[0m\u001b[1;33m\u001b[0m\u001b[0m\n",
      "\u001b[1;31mValueError\u001b[0m: The truth value of a Series is ambiguous. Use a.empty, a.bool(), a.item(), a.any() or a.all()."
     ]
    }
   ],
   "source": [
    "# for i in range(len(centroids)):\n",
    "#     a=df2(df2['0']==i.value_count(df2['gender'])\n",
    "a = []\n",
    "for i in range(len(df2)):\n",
    "    if df2[0] == \"0\":\n",
    "        a.append('zero')\n",
    "        \n",
    "a \n",
    "\n",
    "# a=combine['gender'].equals(df2['0'])\n",
    "# a\n",
    "    \n",
    "                  \n",
    "            "
   ]
  },
  {
   "cell_type": "code",
   "execution_count": 66,
   "id": "3fbb2e70",
   "metadata": {},
   "outputs": [],
   "source": [
    "# import numpy as np\n",
    "# from sklearn.cluster import KMeans\n",
    "# from sklearn import datasets\n",
    "\n",
    "# np.random.seed(0)\n",
    "\n",
    "\n",
    "# # KMeans with 4 clusters\n",
    "# clf =  KMeans(n_clusters=4)\n",
    "# clf.fit(train_org_X)\n",
    "\n",
    "# #Coordinates of cluster centers with shape [n_clusters, n_features]\n",
    "# clf.cluster_centers_\n",
    "# #Labels of each point\n",
    "# clf.labels_\n",
    "\n",
    "# # Nice Pythonic way to get the indices of the points for each corresponding cluster\n",
    "# mydict = {i: np.where(clf.labels_ == i)[0] for i in range(clf.n_clusters)}\n",
    "\n",
    "# # Transform this dictionary into list (if you need a list as result)\n",
    "# dictlist = []\n",
    "# for key, value in mydict.values():\n",
    "#     temp = []\n",
    "#     dictlist.append(temp)"
   ]
  },
  {
   "cell_type": "markdown",
   "id": "910174e7",
   "metadata": {},
   "source": [
    "    ### Getting the best number of cluster based on elblow method , where the difference between sum of squre distance is less then the 90% percentile."
   ]
  },
  {
   "cell_type": "code",
   "execution_count": null,
   "id": "554588c8",
   "metadata": {},
   "outputs": [],
   "source": [
    "labels"
   ]
  },
  {
   "cell_type": "code",
   "execution_count": null,
   "id": "9bd50279",
   "metadata": {},
   "outputs": [],
   "source": [
    "# x1= np.array(train_org_X)\n",
    "# x2 = np.array(trainX)\n",
    "\n",
    "\n",
    "# # create new plot and data\n",
    "# plt.plot()\n",
    "# X = np.array(list(zip(x1,x2))).reshape(len(x1), 15)\n",
    "# colors = ['b', 'g', 'c']\n",
    "# markers = ['o', 'v', 's']\n",
    "\n",
    "# # KMeans algorithm \n",
    "# K = 4\n",
    "# kmeans_model = KMeans(n_clusters=K).fit(X)\n",
    "\n",
    "# print(kmeans_model.cluster_centers_)\n",
    "# centers = np.array(kmeans_model.cluster_centers_)\n",
    "\n",
    "# plt.plot()\n",
    "# plt.title('k means centroids')\n",
    "\n",
    "# for i, l in enumerate(kmeans_model.labels_):\n",
    "#     plt.plot(train_org_X[i], color=colors[l], marker=markers[l],ls='None')\n",
    "#     plt.xlim([0, 10])\n",
    "#     plt.ylim([0, 10])\n",
    "\n",
    "# plt.scatter(centers[:,0], centers[:,1], marker=\"x\", color='r')\n",
    "# plt.show()"
   ]
  },
  {
   "cell_type": "code",
   "execution_count": null,
   "id": "e90a0f7e",
   "metadata": {},
   "outputs": [],
   "source": [
    "# plotting all the clusters and their Centroids\n",
    "# x-axis : annual income \n",
    "# y-axis : spending score\n",
    "\n",
    "# plt.figure(figsize=(8,8))\n",
    "# plt.scatter(X[Y==0,0], X[Y==0,1], s=50, c='green', label='Cluster 1')\n",
    "# plt.scatter(X[Y==1,0], X[Y==1,1], s=50, c='red', label='Cluster 2')\n",
    "# plt.scatter(X[Y==2,0], X[Y==2,1], s=50, c='yellow', label='Cluster 3')\n",
    "# plt.scatter(X[Y==3,0], X[Y==3,1], s=50, c='violet', label='Cluster 4')\n",
    "# plt.scatter(X[Y==4,0], X[Y==4,1], s=50, c='blue', label='Cluster 5')\n",
    "\n",
    "# # plot the centroids\n",
    "#   # cluster_centers_ndarray of shape (n_clusters, n_features) : Coordinates of cluster centers. \n",
    "# plt.scatter(kmeans.cluster_centers_[:,0], kmeans.cluster_centers_[:,1], s=100, c='cyan', label='Centroids')\n",
    "\n",
    "# plt.title('Customer Groups')\n",
    "# plt.xlabel('Annual Income')\n",
    "# plt.ylabel('Spending Score')\n",
    "# plt.show()"
   ]
  },
  {
   "cell_type": "code",
   "execution_count": null,
   "id": "f84ac29b",
   "metadata": {},
   "outputs": [],
   "source": [
    "# Sum_of_squared_distances = np.array(Sum_of_squared_distances)\n",
    "# dif_scores = Sum_of_squared_distances / Sum_of_squared_distances[0]\n",
    "# dif_scores = np.diff(dif_scores)\n",
    "# n_clusters = np.argwhere(dif_scores < np.quantile(dif_scores, 0.9))[-1][0]\n",
    "# print(n_clusters)\n",
    "\n",
    "# preds = KMeans(n_clusters=n_clusters).fit_predict(df_dummies)\n",
    "# print(f\"First observation's cluster: {preds[0]}\")"
   ]
  },
  {
   "cell_type": "code",
   "execution_count": null,
   "id": "b22e2911",
   "metadata": {},
   "outputs": [],
   "source": [
    "# #Implementing the train-test split and hold-out cross validation with stratifield sampling\n",
    "# train_org_X, test_org_X, train_org_Y, test_org_Y = train_test_split(features_df_dummies, labels_df_dummies, test_size=0.2, random_state=50, stratify=labels_df_dummies)\n",
    "# trainX, testX, trainY, testY = train_test_split(features_low_imb, labels_low_imb, test_size=0.2, random_state=50, stratify=labels_low_imb) \n",
    "# trainA, testA, trainB, testB = train_test_split(features_mid_imb, labels_mid_imb, test_size=0.2, random_state=50, stratify=labels_mid_imb)\n",
    "# trainC, testC, trainD, testD = train_test_split(features_high_imb, labels_high_imb, test_size=0.2, random_state=50, stratify=labels_high_imb)\n"
   ]
  },
  {
   "cell_type": "code",
   "execution_count": null,
   "id": "5275feb0",
   "metadata": {},
   "outputs": [],
   "source": [
    "# train_df['gender'].value_counts()"
   ]
  },
  {
   "cell_type": "code",
   "execution_count": null,
   "id": "faeed2e0",
   "metadata": {},
   "outputs": [],
   "source": [
    "# test_df['gender'].value_counts()"
   ]
  },
  {
   "cell_type": "code",
   "execution_count": null,
   "id": "f4c47523",
   "metadata": {},
   "outputs": [],
   "source": [
    "#from sklearn.metrics import classification_report, confusion_matrix, accuracy_score"
   ]
  },
  {
   "cell_type": "code",
   "execution_count": null,
   "id": "4b34df03",
   "metadata": {},
   "outputs": [],
   "source": [
    "# #Elbow method for orginal dataset\n",
    "# abc={'train_org_X':[],'train_org_Y':[]}\n",
    "# y=[]    \n",
    "# for train_org_X, train_org_Y in cv.split(df_dummies):\n",
    "#     print('train_org_X: %s, train_org_Y: %s' % (train_org_X, train_org_Y))\n",
    "#     abc.train_org_X=train_org_X\n",
    "#     abc.train_org_Y=train_org_Y\n",
    "#     y.append(abc)\n",
    "    \n",
    "# mms = MinMaxScaler()\n",
    "# mms.fit(df_dummies)\n",
    "# data_transformed = mms.transform(df_dummies)\n",
    "\n",
    "# Sum_of_squared_distances = []\n",
    "# K = range(1,20)\n",
    "# for k in K:\n",
    "#     km = KMeans(n_clusters=k)\n",
    "#     km = km.fit(data_transformed)\n",
    "#     Sum_of_squared_distances.append(km.inertia_)"
   ]
  },
  {
   "cell_type": "code",
   "execution_count": null,
   "id": "4189bc68",
   "metadata": {},
   "outputs": [],
   "source": [
    "# # random forest for imbalanced classification\n",
    "# from numpy import mean\n",
    "# from sklearn.datasets import make_classification\n",
    "# from sklearn.model_selection import cross_val_score\n",
    "# from sklearn.model_selection import RepeatedStratifiedKFold\n",
    "# from sklearn.ensemble import RandomForestClassifier\n",
    "# # generate dataset\n",
    "# X, y = make_classification(n_samples=10000, n_features=2, n_redundant=0,\n",
    "# \tn_clusters_per_class=1, weights=[0.99], flip_y=0, random_state=4)\n",
    "# # define model\n",
    "# model = RandomForestClassifier(n_estimators=10)\n",
    "# # define evaluation procedure\n",
    "# cv = RepeatedStratifiedKFold(n_splits=10, n_repeats=3, random_state=1)\n",
    "# # evaluate model\n",
    "# scores = cross_val_score(model, X, y, scoring='roc_auc', cv=cv, n_jobs=-1)\n",
    "# # summarize performance\n",
    "# print('Mean ROC AUC: %.3f' % mean(scores))"
   ]
  },
  {
   "cell_type": "code",
   "execution_count": null,
   "id": "5696a5e5",
   "metadata": {},
   "outputs": [],
   "source": [
    "# from sklearn.metrics import f1_score\n",
    "# from sklearn.model_selection import train_test_split, StratifiedShuffleSplit, cross_val_score\n",
    "# from sklearn.ensemble import RandomForestClassifier\n",
    "# rf_clf = RandomForestClassifier(n_estimators=150, max_depth=6, random_state=50)\n",
    "# from sklearn.metrics import make_scorer, confusion_matrix\n",
    "# from sklearn.dummy import DummyRegressor, DummyClassifier\n",
    "# dummy_clf = DummyClassifier(strategy='stratified')\n",
    "\n",
    "# scores = cross_val_score(rf_clf, trainY, trainB, trainD, cv=10, scoring=make_scorer(f1_score))\n",
    "# dummy_scores = cross_val_score(dummy_clf, train_df, cv=10, scoring=make_scorer(f1_score))\n",
    "\n",
    "# print(f\"F1 score: {scores.mean(), scores.std()}\" )\n",
    "# print(f\"Dummy F1 score: {dummy_scores.mean(), dummy_scores.std()}\")"
   ]
  }
 ],
 "metadata": {
  "kernelspec": {
   "display_name": "Python 3 (ipykernel)",
   "language": "python",
   "name": "python3"
  },
  "language_info": {
   "codemirror_mode": {
    "name": "ipython",
    "version": 3
   },
   "file_extension": ".py",
   "mimetype": "text/x-python",
   "name": "python",
   "nbconvert_exporter": "python",
   "pygments_lexer": "ipython3",
   "version": "3.9.7"
  }
 },
 "nbformat": 4,
 "nbformat_minor": 5
}
